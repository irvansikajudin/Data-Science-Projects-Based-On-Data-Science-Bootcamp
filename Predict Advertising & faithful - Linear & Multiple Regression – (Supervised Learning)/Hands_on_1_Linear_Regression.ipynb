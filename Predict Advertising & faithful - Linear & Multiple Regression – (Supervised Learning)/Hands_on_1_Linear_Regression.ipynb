{
  "cells": [
    {
      "cell_type": "code",
      "execution_count": null,
      "metadata": {
        "id": "puGAykCsTwUa"
      },
      "outputs": [],
      "source": [
        "import warnings\n",
        "warnings.filterwarnings('ignore')\n",
        "\n",
        "import numpy as np\n",
        "import pandas as pd\n",
        "import seaborn as sns\n",
        "import matplotlib.pyplot as plt\n",
        "%matplotlib inline\n",
        "\n",
        "from sklearn.linear_model import LinearRegression"
      ]
    },
    {
      "cell_type": "markdown",
      "metadata": {
        "id": "1jfSfGfMTwUf"
      },
      "source": [
        "## Simple Linear Regression"
      ]
    },
    {
      "cell_type": "code",
      "execution_count": null,
      "metadata": {
        "id": "AznuSJilTwUi",
        "outputId": "73cf15bf-0fd1-4c20-df6b-448a201d34b9"
      },
      "outputs": [
        {
          "data": {
            "text/html": [
              "<div>\n",
              "<style scoped>\n",
              "    .dataframe tbody tr th:only-of-type {\n",
              "        vertical-align: middle;\n",
              "    }\n",
              "\n",
              "    .dataframe tbody tr th {\n",
              "        vertical-align: top;\n",
              "    }\n",
              "\n",
              "    .dataframe thead th {\n",
              "        text-align: right;\n",
              "    }\n",
              "</style>\n",
              "<table border=\"1\" class=\"dataframe\">\n",
              "  <thead>\n",
              "    <tr style=\"text-align: right;\">\n",
              "      <th></th>\n",
              "      <th>TV</th>\n",
              "      <th>Sales</th>\n",
              "    </tr>\n",
              "  </thead>\n",
              "  <tbody>\n",
              "    <tr>\n",
              "      <th>0</th>\n",
              "      <td>230.1</td>\n",
              "      <td>22.1</td>\n",
              "    </tr>\n",
              "    <tr>\n",
              "      <th>1</th>\n",
              "      <td>44.5</td>\n",
              "      <td>10.4</td>\n",
              "    </tr>\n",
              "    <tr>\n",
              "      <th>2</th>\n",
              "      <td>17.2</td>\n",
              "      <td>9.3</td>\n",
              "    </tr>\n",
              "    <tr>\n",
              "      <th>3</th>\n",
              "      <td>151.5</td>\n",
              "      <td>18.5</td>\n",
              "    </tr>\n",
              "    <tr>\n",
              "      <th>4</th>\n",
              "      <td>180.8</td>\n",
              "      <td>12.9</td>\n",
              "    </tr>\n",
              "    <tr>\n",
              "      <th>5</th>\n",
              "      <td>8.7</td>\n",
              "      <td>7.2</td>\n",
              "    </tr>\n",
              "    <tr>\n",
              "      <th>6</th>\n",
              "      <td>57.5</td>\n",
              "      <td>11.8</td>\n",
              "    </tr>\n",
              "    <tr>\n",
              "      <th>7</th>\n",
              "      <td>120.2</td>\n",
              "      <td>13.2</td>\n",
              "    </tr>\n",
              "    <tr>\n",
              "      <th>8</th>\n",
              "      <td>8.6</td>\n",
              "      <td>4.8</td>\n",
              "    </tr>\n",
              "    <tr>\n",
              "      <th>9</th>\n",
              "      <td>199.8</td>\n",
              "      <td>10.6</td>\n",
              "    </tr>\n",
              "  </tbody>\n",
              "</table>\n",
              "</div>"
            ],
            "text/plain": [
              "      TV  Sales\n",
              "0  230.1   22.1\n",
              "1   44.5   10.4\n",
              "2   17.2    9.3\n",
              "3  151.5   18.5\n",
              "4  180.8   12.9\n",
              "5    8.7    7.2\n",
              "6   57.5   11.8\n",
              "7  120.2   13.2\n",
              "8    8.6    4.8\n",
              "9  199.8   10.6"
            ]
          },
          "execution_count": 2,
          "metadata": {},
          "output_type": "execute_result"
        }
      ],
      "source": [
        "data = pd.read_csv('dataset/Advertising.csv')\n",
        "data = data[['TV','Sales']]\n",
        "data.head(10)"
      ]
    },
    {
      "cell_type": "code",
      "execution_count": null,
      "metadata": {
        "id": "ln0_AI2rTwUl",
        "outputId": "e3a0c0bd-ad93-46ec-de21-a0a2f359de58"
      },
      "outputs": [
        {
          "data": {
            "text/plain": [
              "Text(0, 0.5, 'Sales')"
            ]
          },
          "execution_count": 3,
          "metadata": {},
          "output_type": "execute_result"
        },
        {
          "data": {
            "image/png": "[encoded data removed]",
            "text/plain": [
              "<Figure size 720x504 with 1 Axes>"
            ]
          },
          "metadata": {
            "needs_background": "light"
          },
          "output_type": "display_data"
        }
      ],
      "source": [
        "fig, ax = plt.subplots(figsize=(10,7))\n",
        "sns.scatterplot(x='TV', y='Sales', data=data, s=70)\n",
        "\n",
        "title = 'Sales and TV'\n",
        "ax.text(45,26,title,horizontalalignment='center',color='#800000',fontsize=20,fontweight='bold')\n",
        "\n",
        "ax.set_xlabel('Television', fontsize=15, color='#800000')\n",
        "ax.set_ylabel('Sales', fontsize=14, color='#800000')\n",
        "\n",
        "# plt.savefig('fig/sales_vs_tv.png',bbox_inches='tight')"
      ]
    },
    {
      "cell_type": "code",
      "execution_count": null,
      "metadata": {
        "id": "yWWVuTGdTwUm",
        "outputId": "1339870d-5e85-46cd-d881-f3cd7924f2f9"
      },
      "outputs": [
        {
          "data": {
            "text/html": [
              "<div>\n",
              "<style scoped>\n",
              "    .dataframe tbody tr th:only-of-type {\n",
              "        vertical-align: middle;\n",
              "    }\n",
              "\n",
              "    .dataframe tbody tr th {\n",
              "        vertical-align: top;\n",
              "    }\n",
              "\n",
              "    .dataframe thead th {\n",
              "        text-align: right;\n",
              "    }\n",
              "</style>\n",
              "<table border=\"1\" class=\"dataframe\">\n",
              "  <thead>\n",
              "    <tr style=\"text-align: right;\">\n",
              "      <th></th>\n",
              "      <th>x</th>\n",
              "      <th>y</th>\n",
              "    </tr>\n",
              "  </thead>\n",
              "  <tbody>\n",
              "    <tr>\n",
              "      <th>0</th>\n",
              "      <td>230.1</td>\n",
              "      <td>22.1</td>\n",
              "    </tr>\n",
              "    <tr>\n",
              "      <th>1</th>\n",
              "      <td>44.5</td>\n",
              "      <td>10.4</td>\n",
              "    </tr>\n",
              "  </tbody>\n",
              "</table>\n",
              "</div>"
            ],
            "text/plain": [
              "       x     y\n",
              "0  230.1  22.1\n",
              "1   44.5  10.4"
            ]
          },
          "execution_count": 4,
          "metadata": {},
          "output_type": "execute_result"
        }
      ],
      "source": [
        "data.columns = ['x','y']\n",
        "data.head(2)"
      ]
    },
    {
      "cell_type": "markdown",
      "metadata": {
        "id": "Bi9cQ1FjTwUn"
      },
      "source": [
        "### Simple Linear Regression From Scratch"
      ]
    },
    {
      "cell_type": "code",
      "execution_count": null,
      "metadata": {
        "id": "5HfKWM4dTwUn"
      },
      "outputs": [],
      "source": [
        "data['(x-x_mean)'] = round(data['x'] - data['x'].mean(),2)\n",
        "data['(y-y_mean)'] = round(data['y'] - data['y'].mean(),2)\n",
        "data['(x-x_mean)(y-y_mean)'] = data['(x-x_mean)'] *data['(y-y_mean)']\n",
        "data['pow((x-x_mean),2)'] = round(pow(data['x'] - data['x'].mean(),2),2)"
      ]
    },
    {
      "cell_type": "code",
      "execution_count": null,
      "metadata": {
        "id": "9E7c0ZUTTwUo",
        "outputId": "c6cae213-eb86-4cd1-c635-5876894c2372"
      },
      "outputs": [
        {
          "data": {
            "text/html": [
              "<div>\n",
              "<style scoped>\n",
              "    .dataframe tbody tr th:only-of-type {\n",
              "        vertical-align: middle;\n",
              "    }\n",
              "\n",
              "    .dataframe tbody tr th {\n",
              "        vertical-align: top;\n",
              "    }\n",
              "\n",
              "    .dataframe thead th {\n",
              "        text-align: right;\n",
              "    }\n",
              "</style>\n",
              "<table border=\"1\" class=\"dataframe\">\n",
              "  <thead>\n",
              "    <tr style=\"text-align: right;\">\n",
              "      <th></th>\n",
              "      <th>x</th>\n",
              "      <th>y</th>\n",
              "      <th>(x-x_mean)</th>\n",
              "      <th>(y-y_mean)</th>\n",
              "      <th>(x-x_mean)(y-y_mean)</th>\n",
              "      <th>pow((x-x_mean),2)</th>\n",
              "    </tr>\n",
              "  </thead>\n",
              "  <tbody>\n",
              "    <tr>\n",
              "      <th>0</th>\n",
              "      <td>230.1</td>\n",
              "      <td>22.1</td>\n",
              "      <td>83.06</td>\n",
              "      <td>8.08</td>\n",
              "      <td>671.1248</td>\n",
              "      <td>6898.55</td>\n",
              "    </tr>\n",
              "    <tr>\n",
              "      <th>1</th>\n",
              "      <td>44.5</td>\n",
              "      <td>10.4</td>\n",
              "      <td>-102.54</td>\n",
              "      <td>-3.62</td>\n",
              "      <td>371.1948</td>\n",
              "      <td>10514.96</td>\n",
              "    </tr>\n",
              "    <tr>\n",
              "      <th>2</th>\n",
              "      <td>17.2</td>\n",
              "      <td>9.3</td>\n",
              "      <td>-129.84</td>\n",
              "      <td>-4.72</td>\n",
              "      <td>612.8448</td>\n",
              "      <td>16859.07</td>\n",
              "    </tr>\n",
              "    <tr>\n",
              "      <th>3</th>\n",
              "      <td>151.5</td>\n",
              "      <td>18.5</td>\n",
              "      <td>4.46</td>\n",
              "      <td>4.48</td>\n",
              "      <td>19.9808</td>\n",
              "      <td>19.87</td>\n",
              "    </tr>\n",
              "    <tr>\n",
              "      <th>4</th>\n",
              "      <td>180.8</td>\n",
              "      <td>12.9</td>\n",
              "      <td>33.76</td>\n",
              "      <td>-1.12</td>\n",
              "      <td>-37.8112</td>\n",
              "      <td>1139.57</td>\n",
              "    </tr>\n",
              "    <tr>\n",
              "      <th>5</th>\n",
              "      <td>8.7</td>\n",
              "      <td>7.2</td>\n",
              "      <td>-138.34</td>\n",
              "      <td>-6.82</td>\n",
              "      <td>943.4788</td>\n",
              "      <td>19138.65</td>\n",
              "    </tr>\n",
              "    <tr>\n",
              "      <th>6</th>\n",
              "      <td>57.5</td>\n",
              "      <td>11.8</td>\n",
              "      <td>-89.54</td>\n",
              "      <td>-2.22</td>\n",
              "      <td>198.7788</td>\n",
              "      <td>8017.86</td>\n",
              "    </tr>\n",
              "    <tr>\n",
              "      <th>7</th>\n",
              "      <td>120.2</td>\n",
              "      <td>13.2</td>\n",
              "      <td>-26.84</td>\n",
              "      <td>-0.82</td>\n",
              "      <td>22.0088</td>\n",
              "      <td>720.52</td>\n",
              "    </tr>\n",
              "    <tr>\n",
              "      <th>8</th>\n",
              "      <td>8.6</td>\n",
              "      <td>4.8</td>\n",
              "      <td>-138.44</td>\n",
              "      <td>-9.22</td>\n",
              "      <td>1276.4168</td>\n",
              "      <td>19166.33</td>\n",
              "    </tr>\n",
              "    <tr>\n",
              "      <th>9</th>\n",
              "      <td>199.8</td>\n",
              "      <td>10.6</td>\n",
              "      <td>52.76</td>\n",
              "      <td>-3.42</td>\n",
              "      <td>-180.4392</td>\n",
              "      <td>2783.35</td>\n",
              "    </tr>\n",
              "  </tbody>\n",
              "</table>\n",
              "</div>"
            ],
            "text/plain": [
              "       x     y  (x-x_mean)  (y-y_mean)  (x-x_mean)(y-y_mean)  \\\n",
              "0  230.1  22.1       83.06        8.08              671.1248   \n",
              "1   44.5  10.4     -102.54       -3.62              371.1948   \n",
              "2   17.2   9.3     -129.84       -4.72              612.8448   \n",
              "3  151.5  18.5        4.46        4.48               19.9808   \n",
              "4  180.8  12.9       33.76       -1.12              -37.8112   \n",
              "5    8.7   7.2     -138.34       -6.82              943.4788   \n",
              "6   57.5  11.8      -89.54       -2.22              198.7788   \n",
              "7  120.2  13.2      -26.84       -0.82               22.0088   \n",
              "8    8.6   4.8     -138.44       -9.22             1276.4168   \n",
              "9  199.8  10.6       52.76       -3.42             -180.4392   \n",
              "\n",
              "   pow((x-x_mean),2)  \n",
              "0            6898.55  \n",
              "1           10514.96  \n",
              "2           16859.07  \n",
              "3              19.87  \n",
              "4            1139.57  \n",
              "5           19138.65  \n",
              "6            8017.86  \n",
              "7             720.52  \n",
              "8           19166.33  \n",
              "9            2783.35  "
            ]
          },
          "execution_count": 6,
          "metadata": {},
          "output_type": "execute_result"
        }
      ],
      "source": [
        "data.head(10)"
      ]
    },
    {
      "cell_type": "code",
      "execution_count": null,
      "metadata": {
        "id": "QikGFR6yTwUp",
        "outputId": "93a914d0-8c16-4d39-f993-5a5c6ab4004c"
      },
      "outputs": [
        {
          "data": {
            "text/plain": [
              "0.047536644161412324"
            ]
          },
          "execution_count": 7,
          "metadata": {},
          "output_type": "execute_result"
        }
      ],
      "source": [
        "b1 = data['(x-x_mean)(y-y_mean)'].sum() / data['pow((x-x_mean),2)'].sum()\n",
        "b1"
      ]
    },
    {
      "cell_type": "code",
      "execution_count": null,
      "metadata": {
        "id": "7JsGsZYQTwUq",
        "outputId": "1b605eb7-e7fc-4eca-ac3c-a44bd6774915"
      },
      "outputs": [
        {
          "data": {
            "text/plain": [
              "(14.0225, 147.0425)"
            ]
          },
          "execution_count": 8,
          "metadata": {},
          "output_type": "execute_result"
        }
      ],
      "source": [
        "data['y'].mean(), data['x'].mean()"
      ]
    },
    {
      "cell_type": "code",
      "execution_count": null,
      "metadata": {
        "id": "LQLhH0KQTwUq",
        "outputId": "2361ab40-aea0-4545-98f1-5ba2c6d6f5de"
      },
      "outputs": [
        {
          "data": {
            "text/plain": [
              "7.032593000895529"
            ]
          },
          "execution_count": 9,
          "metadata": {},
          "output_type": "execute_result"
        }
      ],
      "source": [
        "b0 = data['y'].mean() - b1 * data['x'].mean()\n",
        "b0"
      ]
    },
    {
      "cell_type": "code",
      "execution_count": null,
      "metadata": {
        "id": "qed-6iv-TwUr",
        "outputId": "8a08851d-e0c1-4008-f45f-68aecd09e88f"
      },
      "outputs": [
        {
          "data": {
            "text/html": [
              "<div>\n",
              "<style scoped>\n",
              "    .dataframe tbody tr th:only-of-type {\n",
              "        vertical-align: middle;\n",
              "    }\n",
              "\n",
              "    .dataframe tbody tr th {\n",
              "        vertical-align: top;\n",
              "    }\n",
              "\n",
              "    .dataframe thead th {\n",
              "        text-align: right;\n",
              "    }\n",
              "</style>\n",
              "<table border=\"1\" class=\"dataframe\">\n",
              "  <thead>\n",
              "    <tr style=\"text-align: right;\">\n",
              "      <th></th>\n",
              "      <th>x</th>\n",
              "      <th>y</th>\n",
              "      <th>(x-x_mean)</th>\n",
              "      <th>(y-y_mean)</th>\n",
              "      <th>(x-x_mean)(y-y_mean)</th>\n",
              "      <th>pow((x-x_mean),2)</th>\n",
              "      <th>y_pred</th>\n",
              "    </tr>\n",
              "  </thead>\n",
              "  <tbody>\n",
              "    <tr>\n",
              "      <th>0</th>\n",
              "      <td>230.1</td>\n",
              "      <td>22.1</td>\n",
              "      <td>83.06</td>\n",
              "      <td>8.08</td>\n",
              "      <td>671.1248</td>\n",
              "      <td>6898.55</td>\n",
              "      <td>17.970775</td>\n",
              "    </tr>\n",
              "    <tr>\n",
              "      <th>1</th>\n",
              "      <td>44.5</td>\n",
              "      <td>10.4</td>\n",
              "      <td>-102.54</td>\n",
              "      <td>-3.62</td>\n",
              "      <td>371.1948</td>\n",
              "      <td>10514.96</td>\n",
              "      <td>9.147974</td>\n",
              "    </tr>\n",
              "    <tr>\n",
              "      <th>2</th>\n",
              "      <td>17.2</td>\n",
              "      <td>9.3</td>\n",
              "      <td>-129.84</td>\n",
              "      <td>-4.72</td>\n",
              "      <td>612.8448</td>\n",
              "      <td>16859.07</td>\n",
              "      <td>7.850223</td>\n",
              "    </tr>\n",
              "    <tr>\n",
              "      <th>3</th>\n",
              "      <td>151.5</td>\n",
              "      <td>18.5</td>\n",
              "      <td>4.46</td>\n",
              "      <td>4.48</td>\n",
              "      <td>19.9808</td>\n",
              "      <td>19.87</td>\n",
              "      <td>14.234395</td>\n",
              "    </tr>\n",
              "    <tr>\n",
              "      <th>4</th>\n",
              "      <td>180.8</td>\n",
              "      <td>12.9</td>\n",
              "      <td>33.76</td>\n",
              "      <td>-1.12</td>\n",
              "      <td>-37.8112</td>\n",
              "      <td>1139.57</td>\n",
              "      <td>15.627218</td>\n",
              "    </tr>\n",
              "    <tr>\n",
              "      <th>5</th>\n",
              "      <td>8.7</td>\n",
              "      <td>7.2</td>\n",
              "      <td>-138.34</td>\n",
              "      <td>-6.82</td>\n",
              "      <td>943.4788</td>\n",
              "      <td>19138.65</td>\n",
              "      <td>7.446162</td>\n",
              "    </tr>\n",
              "    <tr>\n",
              "      <th>6</th>\n",
              "      <td>57.5</td>\n",
              "      <td>11.8</td>\n",
              "      <td>-89.54</td>\n",
              "      <td>-2.22</td>\n",
              "      <td>198.7788</td>\n",
              "      <td>8017.86</td>\n",
              "      <td>9.765950</td>\n",
              "    </tr>\n",
              "    <tr>\n",
              "      <th>7</th>\n",
              "      <td>120.2</td>\n",
              "      <td>13.2</td>\n",
              "      <td>-26.84</td>\n",
              "      <td>-0.82</td>\n",
              "      <td>22.0088</td>\n",
              "      <td>720.52</td>\n",
              "      <td>12.746498</td>\n",
              "    </tr>\n",
              "    <tr>\n",
              "      <th>8</th>\n",
              "      <td>8.6</td>\n",
              "      <td>4.8</td>\n",
              "      <td>-138.44</td>\n",
              "      <td>-9.22</td>\n",
              "      <td>1276.4168</td>\n",
              "      <td>19166.33</td>\n",
              "      <td>7.441408</td>\n",
              "    </tr>\n",
              "    <tr>\n",
              "      <th>9</th>\n",
              "      <td>199.8</td>\n",
              "      <td>10.6</td>\n",
              "      <td>52.76</td>\n",
              "      <td>-3.42</td>\n",
              "      <td>-180.4392</td>\n",
              "      <td>2783.35</td>\n",
              "      <td>16.530415</td>\n",
              "    </tr>\n",
              "  </tbody>\n",
              "</table>\n",
              "</div>"
            ],
            "text/plain": [
              "       x     y  (x-x_mean)  (y-y_mean)  (x-x_mean)(y-y_mean)  \\\n",
              "0  230.1  22.1       83.06        8.08              671.1248   \n",
              "1   44.5  10.4     -102.54       -3.62              371.1948   \n",
              "2   17.2   9.3     -129.84       -4.72              612.8448   \n",
              "3  151.5  18.5        4.46        4.48               19.9808   \n",
              "4  180.8  12.9       33.76       -1.12              -37.8112   \n",
              "5    8.7   7.2     -138.34       -6.82              943.4788   \n",
              "6   57.5  11.8      -89.54       -2.22              198.7788   \n",
              "7  120.2  13.2      -26.84       -0.82               22.0088   \n",
              "8    8.6   4.8     -138.44       -9.22             1276.4168   \n",
              "9  199.8  10.6       52.76       -3.42             -180.4392   \n",
              "\n",
              "   pow((x-x_mean),2)     y_pred  \n",
              "0            6898.55  17.970775  \n",
              "1           10514.96   9.147974  \n",
              "2           16859.07   7.850223  \n",
              "3              19.87  14.234395  \n",
              "4            1139.57  15.627218  \n",
              "5           19138.65   7.446162  \n",
              "6            8017.86   9.765950  \n",
              "7             720.52  12.746498  \n",
              "8           19166.33   7.441408  \n",
              "9            2783.35  16.530415  "
            ]
          },
          "execution_count": 10,
          "metadata": {},
          "output_type": "execute_result"
        }
      ],
      "source": [
        "data['y_pred'] = b0 + b1*data['x']\n",
        "data.head(10)"
      ]
    },
    {
      "cell_type": "markdown",
      "metadata": {
        "id": "VKD-6NX1TwUs"
      },
      "source": [
        "### Simple Linear Regression with sklearn"
      ]
    },
    {
      "cell_type": "code",
      "execution_count": null,
      "metadata": {
        "id": "2hmWF31eTwUt",
        "outputId": "3c89c305-72ab-45a2-afb7-793fdae4f3ff"
      },
      "outputs": [
        {
          "name": "stdout",
          "output_type": "stream",
          "text": [
            "intercept (b0 ):  7.033\n",
            "slope (b1) :  0.048\n",
            " \n",
            "y = 7.033 + 0.048 * x\n"
          ]
        }
      ],
      "source": [
        "x = data.x.values.reshape(-1,1)\n",
        "y = data.y.values.reshape(-1,1)\n",
        "\n",
        "model = LinearRegression().fit(x, y)\n",
        "\n",
        "b0 = float(model.intercept_[0])\n",
        "b0 = round(b0,3)\n",
        "b1 = float(model.coef_[0][0])\n",
        "b1 = round(b1,3)\n",
        "print('intercept (b0 ): ', b0)\n",
        "print('slope (b1) : ', b1)\n",
        "print(' ')\n",
        "textstr = 'y = '+str(b0)+' + '+str(b1)+' * x'\n",
        "print(textstr)"
      ]
    },
    {
      "cell_type": "code",
      "execution_count": null,
      "metadata": {
        "id": "7hpHH7byTwUu",
        "outputId": "ee82b4e2-3c70-44c3-9a3a-7c6ea088cc40"
      },
      "outputs": [
        {
          "data": {
            "text/plain": [
              "Text(0, 0.5, 'Sales')"
            ]
          },
          "execution_count": 12,
          "metadata": {},
          "output_type": "execute_result"
        },
        {
          "data": {
            "image/png": "[encoded data removed]",
            "text/plain": [
              "<Figure size 720x504 with 1 Axes>"
            ]
          },
          "metadata": {
            "needs_background": "light"
          },
          "output_type": "display_data"
        }
      ],
      "source": [
        "fit = np.polyfit(data['x'], data['y'], deg=1)\n",
        "y_hat = fit[1] + data['x'] * fit[0]\n",
        "\n",
        "fig, ax = plt.subplots(figsize=(10,7))\n",
        "sns.regplot('x', 'y', data=data)\n",
        "plt.vlines(data['x'], y_hat, data['y'], lw = .4, colors='r');\n",
        "\n",
        "title = 'Sales and TV'\n",
        "ax.text(40,26,title,horizontalalignment='center',color='#800000',fontsize=20,fontweight='bold')\n",
        "ax.text(46,24,textstr,horizontalalignment='center',color='#800000',fontsize=14,fontweight='bold')\n",
        "ax.set_xlabel('Television', fontsize=15, color='#800000')\n",
        "ax.set_ylabel('Sales', fontsize=14, color='#800000')\n",
        "\n",
        "# plt.savefig('fig/sales_vs_tv_slm.png',bbox_inches='tight')"
      ]
    },
    {
      "cell_type": "markdown",
      "metadata": {
        "id": "4AD1qgOyTwUv"
      },
      "source": [
        "## Multiple Linear Regression"
      ]
    },
    {
      "cell_type": "code",
      "execution_count": null,
      "metadata": {
        "id": "ckguwiZ2TwUw",
        "outputId": "5ca44dee-1aaf-4aa0-be4c-7c484ef38ddb"
      },
      "outputs": [
        {
          "data": {
            "text/html": [
              "<div>\n",
              "<style scoped>\n",
              "    .dataframe tbody tr th:only-of-type {\n",
              "        vertical-align: middle;\n",
              "    }\n",
              "\n",
              "    .dataframe tbody tr th {\n",
              "        vertical-align: top;\n",
              "    }\n",
              "\n",
              "    .dataframe thead th {\n",
              "        text-align: right;\n",
              "    }\n",
              "</style>\n",
              "<table border=\"1\" class=\"dataframe\">\n",
              "  <thead>\n",
              "    <tr style=\"text-align: right;\">\n",
              "      <th></th>\n",
              "      <th>TV</th>\n",
              "      <th>Radio</th>\n",
              "      <th>Sales</th>\n",
              "    </tr>\n",
              "  </thead>\n",
              "  <tbody>\n",
              "    <tr>\n",
              "      <th>0</th>\n",
              "      <td>230.1</td>\n",
              "      <td>37.8</td>\n",
              "      <td>22.1</td>\n",
              "    </tr>\n",
              "    <tr>\n",
              "      <th>1</th>\n",
              "      <td>44.5</td>\n",
              "      <td>39.3</td>\n",
              "      <td>10.4</td>\n",
              "    </tr>\n",
              "    <tr>\n",
              "      <th>2</th>\n",
              "      <td>17.2</td>\n",
              "      <td>45.9</td>\n",
              "      <td>9.3</td>\n",
              "    </tr>\n",
              "    <tr>\n",
              "      <th>3</th>\n",
              "      <td>151.5</td>\n",
              "      <td>41.3</td>\n",
              "      <td>18.5</td>\n",
              "    </tr>\n",
              "    <tr>\n",
              "      <th>4</th>\n",
              "      <td>180.8</td>\n",
              "      <td>10.8</td>\n",
              "      <td>12.9</td>\n",
              "    </tr>\n",
              "  </tbody>\n",
              "</table>\n",
              "</div>"
            ],
            "text/plain": [
              "      TV  Radio  Sales\n",
              "0  230.1   37.8   22.1\n",
              "1   44.5   39.3   10.4\n",
              "2   17.2   45.9    9.3\n",
              "3  151.5   41.3   18.5\n",
              "4  180.8   10.8   12.9"
            ]
          },
          "execution_count": 13,
          "metadata": {},
          "output_type": "execute_result"
        }
      ],
      "source": [
        "data = pd.read_csv('dataset/Advertising.csv')\n",
        "data = data[['TV','Radio','Sales']]\n",
        "data.head()"
      ]
    },
    {
      "cell_type": "code",
      "execution_count": null,
      "metadata": {
        "id": "Qy8y4-99TwUx",
        "outputId": "e89b8b4c-ee43-4cb7-98d7-f9cb8bac41c4"
      },
      "outputs": [
        {
          "data": {
            "text/html": [
              "<div>\n",
              "<style scoped>\n",
              "    .dataframe tbody tr th:only-of-type {\n",
              "        vertical-align: middle;\n",
              "    }\n",
              "\n",
              "    .dataframe tbody tr th {\n",
              "        vertical-align: top;\n",
              "    }\n",
              "\n",
              "    .dataframe thead th {\n",
              "        text-align: right;\n",
              "    }\n",
              "</style>\n",
              "<table border=\"1\" class=\"dataframe\">\n",
              "  <thead>\n",
              "    <tr style=\"text-align: right;\">\n",
              "      <th></th>\n",
              "      <th>x1</th>\n",
              "      <th>x2</th>\n",
              "      <th>y</th>\n",
              "    </tr>\n",
              "  </thead>\n",
              "  <tbody>\n",
              "    <tr>\n",
              "      <th>0</th>\n",
              "      <td>230.1</td>\n",
              "      <td>37.8</td>\n",
              "      <td>22.1</td>\n",
              "    </tr>\n",
              "    <tr>\n",
              "      <th>1</th>\n",
              "      <td>44.5</td>\n",
              "      <td>39.3</td>\n",
              "      <td>10.4</td>\n",
              "    </tr>\n",
              "    <tr>\n",
              "      <th>2</th>\n",
              "      <td>17.2</td>\n",
              "      <td>45.9</td>\n",
              "      <td>9.3</td>\n",
              "    </tr>\n",
              "    <tr>\n",
              "      <th>3</th>\n",
              "      <td>151.5</td>\n",
              "      <td>41.3</td>\n",
              "      <td>18.5</td>\n",
              "    </tr>\n",
              "    <tr>\n",
              "      <th>4</th>\n",
              "      <td>180.8</td>\n",
              "      <td>10.8</td>\n",
              "      <td>12.9</td>\n",
              "    </tr>\n",
              "  </tbody>\n",
              "</table>\n",
              "</div>"
            ],
            "text/plain": [
              "      x1    x2     y\n",
              "0  230.1  37.8  22.1\n",
              "1   44.5  39.3  10.4\n",
              "2   17.2  45.9   9.3\n",
              "3  151.5  41.3  18.5\n",
              "4  180.8  10.8  12.9"
            ]
          },
          "execution_count": 14,
          "metadata": {},
          "output_type": "execute_result"
        }
      ],
      "source": [
        "data = pd.read_csv('dataset/Advertising.csv')\n",
        "data = data[['TV','Radio','Sales']]\n",
        "data.columns = ['x1','x2','y']\n",
        "data.head()"
      ]
    },
    {
      "cell_type": "code",
      "execution_count": null,
      "metadata": {
        "id": "UdO_34N8TwUy"
      },
      "outputs": [],
      "source": [
        "x = data[['x1','x2']]\n",
        "y = data['y']\n",
        "\n",
        "model = LinearRegression().fit(x, y)"
      ]
    },
    {
      "cell_type": "code",
      "execution_count": null,
      "metadata": {
        "id": "vswgxmUsTwUz",
        "outputId": "96d676f6-2d8d-4daa-d668-ffe410ce9014"
      },
      "outputs": [
        {
          "name": "stdout",
          "output_type": "stream",
          "text": [
            "intercept (b0 ) :  2.921\n",
            "slope (b1)      :  0.046\n",
            "slope (b2)      :  0.188\n",
            " \n",
            "y = 2.921 + 0.046 * x1  + 0.188 * x2\n"
          ]
        }
      ],
      "source": [
        "b0 = round(float(model.intercept_),3)\n",
        "b1 = round(float(model.coef_[0]),3)\n",
        "b2 = round(float(model.coef_[1]),3)\n",
        "print('intercept (b0 ) : ', b0)\n",
        "print('slope (b1)      : ', b1)\n",
        "print('slope (b2)      : ', b2)\n",
        "print(' ')\n",
        "textstr = 'y = '+str(b0)+' + '+str(b1)+' * x1  + '+str(b2)+' * x2'\n",
        "print(textstr)"
      ]
    },
    {
      "cell_type": "code",
      "execution_count": null,
      "metadata": {
        "id": "Sg5IfdC-TwU0"
      },
      "outputs": [],
      "source": []
    }
  ],
  "metadata": {
    "kernelspec": {
      "display_name": "gpuenv",
      "language": "python",
      "name": "gpuenv"
    },
    "language_info": {
      "codemirror_mode": {
        "name": "ipython",
        "version": 3
      },
      "file_extension": ".py",
      "mimetype": "text/x-python",
      "name": "python",
      "nbconvert_exporter": "python",
      "pygments_lexer": "ipython3",
      "version": "3.6.13"
    },
    "toc": {
      "base_numbering": 1,
      "nav_menu": {},
      "number_sections": true,
      "sideBar": true,
      "skip_h1_title": false,
      "title_cell": "Table of Contents",
      "title_sidebar": "Contents",
      "toc_cell": false,
      "toc_position": {},
      "toc_section_display": true,
      "toc_window_display": false
    },
    "varInspector": {
      "cols": {
        "lenName": 16,
        "lenType": 16,
        "lenVar": 40
      },
      "kernels_config": {
        "python": {
          "delete_cmd_postfix": "",
          "delete_cmd_prefix": "del ",
          "library": "var_list.py",
          "varRefreshCmd": "print(var_dic_list())"
        },
        "r": {
          "delete_cmd_postfix": ") ",
          "delete_cmd_prefix": "rm(",
          "library": "var_list.r",
          "varRefreshCmd": "cat(var_dic_list()) "
        }
      },
      "types_to_exclude": [
        "module",
        "function",
        "builtin_function_or_method",
        "instance",
        "_Feature"
      ],
      "window_display": false
    },
    "colab": {
      "name": "Hands on 1 Linear Regression.ipynb",
      "provenance": [],
      "toc_visible": true
    }
  },
  "nbformat": 4,
  "nbformat_minor": 0
}