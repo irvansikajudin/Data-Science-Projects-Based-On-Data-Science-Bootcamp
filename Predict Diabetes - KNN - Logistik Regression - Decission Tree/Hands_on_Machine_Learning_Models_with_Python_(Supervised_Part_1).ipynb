{
  "cells": [
    {
      "cell_type": "markdown",
      "id": "6e1a147b",
      "metadata": {
        "id": "6e1a147b"
      },
      "source": [
        "## Import Package"
      ]
    },
    {
      "cell_type": "code",
      "execution_count": null,
      "id": "d7abbcae",
      "metadata": {
        "id": "d7abbcae"
      },
      "outputs": [],
      "source": [
        "import warnings\n",
        "warnings.filterwarnings('ignore')\n",
        "\n",
        "import numpy as np\n",
        "import pandas as pd\n",
        "import seaborn as sns\n",
        "import matplotlib.pyplot as plt\n",
        "%matplotlib inline\n",
        "\n",
        "from sklearn.metrics import accuracy_score"
      ]
    },
    {
      "cell_type": "markdown",
      "id": "0c5e0eca",
      "metadata": {
        "id": "0c5e0eca"
      },
      "source": [
        "## Load Dataset"
      ]
    },
    {
      "cell_type": "code",
      "execution_count": null,
      "id": "a5dcce8f",
      "metadata": {
        "id": "a5dcce8f",
        "outputId": "4927eee7-176a-49f7-cac5-b436925c40ec"
      },
      "outputs": [
        {
          "data": {
            "text/html": [
              "<div>\n",
              "<style scoped>\n",
              "    .dataframe tbody tr th:only-of-type {\n",
              "        vertical-align: middle;\n",
              "    }\n",
              "\n",
              "    .dataframe tbody tr th {\n",
              "        vertical-align: top;\n",
              "    }\n",
              "\n",
              "    .dataframe thead th {\n",
              "        text-align: right;\n",
              "    }\n",
              "</style>\n",
              "<table border=\"1\" class=\"dataframe\">\n",
              "  <thead>\n",
              "    <tr style=\"text-align: right;\">\n",
              "      <th></th>\n",
              "      <th>Pregnancies</th>\n",
              "      <th>Glucose</th>\n",
              "      <th>BloodPressure</th>\n",
              "      <th>SkinThickness</th>\n",
              "      <th>Insulin</th>\n",
              "      <th>BMI</th>\n",
              "      <th>DiabetesPedigreeFunction</th>\n",
              "      <th>Age</th>\n",
              "      <th>Outcome</th>\n",
              "    </tr>\n",
              "  </thead>\n",
              "  <tbody>\n",
              "    <tr>\n",
              "      <th>0</th>\n",
              "      <td>6</td>\n",
              "      <td>148</td>\n",
              "      <td>72</td>\n",
              "      <td>35</td>\n",
              "      <td>0</td>\n",
              "      <td>33.6</td>\n",
              "      <td>0.627</td>\n",
              "      <td>50</td>\n",
              "      <td>1</td>\n",
              "    </tr>\n",
              "    <tr>\n",
              "      <th>1</th>\n",
              "      <td>1</td>\n",
              "      <td>85</td>\n",
              "      <td>66</td>\n",
              "      <td>29</td>\n",
              "      <td>0</td>\n",
              "      <td>26.6</td>\n",
              "      <td>0.351</td>\n",
              "      <td>31</td>\n",
              "      <td>0</td>\n",
              "    </tr>\n",
              "    <tr>\n",
              "      <th>2</th>\n",
              "      <td>8</td>\n",
              "      <td>183</td>\n",
              "      <td>64</td>\n",
              "      <td>0</td>\n",
              "      <td>0</td>\n",
              "      <td>23.3</td>\n",
              "      <td>0.672</td>\n",
              "      <td>32</td>\n",
              "      <td>1</td>\n",
              "    </tr>\n",
              "    <tr>\n",
              "      <th>3</th>\n",
              "      <td>1</td>\n",
              "      <td>89</td>\n",
              "      <td>66</td>\n",
              "      <td>23</td>\n",
              "      <td>94</td>\n",
              "      <td>28.1</td>\n",
              "      <td>0.167</td>\n",
              "      <td>21</td>\n",
              "      <td>0</td>\n",
              "    </tr>\n",
              "    <tr>\n",
              "      <th>4</th>\n",
              "      <td>0</td>\n",
              "      <td>137</td>\n",
              "      <td>40</td>\n",
              "      <td>35</td>\n",
              "      <td>168</td>\n",
              "      <td>43.1</td>\n",
              "      <td>2.288</td>\n",
              "      <td>33</td>\n",
              "      <td>1</td>\n",
              "    </tr>\n",
              "  </tbody>\n",
              "</table>\n",
              "</div>"
            ],
            "text/plain": [
              "   Pregnancies  Glucose  BloodPressure  SkinThickness  Insulin   BMI  \\\n",
              "0            6      148             72             35        0  33.6   \n",
              "1            1       85             66             29        0  26.6   \n",
              "2            8      183             64              0        0  23.3   \n",
              "3            1       89             66             23       94  28.1   \n",
              "4            0      137             40             35      168  43.1   \n",
              "\n",
              "   DiabetesPedigreeFunction  Age  Outcome  \n",
              "0                     0.627   50        1  \n",
              "1                     0.351   31        0  \n",
              "2                     0.672   32        1  \n",
              "3                     0.167   21        0  \n",
              "4                     2.288   33        1  "
            ]
          },
          "execution_count": 2,
          "metadata": {},
          "output_type": "execute_result"
        }
      ],
      "source": [
        "df = pd.read_csv('diabetes.csv')\n",
        "df.head()"
      ]
    },
    {
      "cell_type": "markdown",
      "id": "910d87df",
      "metadata": {
        "id": "910d87df"
      },
      "source": [
        "## Data Understanding"
      ]
    },
    {
      "cell_type": "code",
      "execution_count": null,
      "id": "7575427c",
      "metadata": {
        "id": "7575427c",
        "outputId": "a9c2c7dc-5957-4f36-b63b-c9405a07a38d"
      },
      "outputs": [
        {
          "name": "stdout",
          "output_type": "stream",
          "text": [
            "<class 'pandas.core.frame.DataFrame'>\n",
            "RangeIndex: 768 entries, 0 to 767\n",
            "Data columns (total 9 columns):\n",
            " #   Column                    Non-Null Count  Dtype  \n",
            "---  ------                    --------------  -----  \n",
            " 0   Pregnancies               768 non-null    int64  \n",
            " 1   Glucose                   768 non-null    int64  \n",
            " 2   BloodPressure             768 non-null    int64  \n",
            " 3   SkinThickness             768 non-null    int64  \n",
            " 4   Insulin                   768 non-null    int64  \n",
            " 5   BMI                       768 non-null    float64\n",
            " 6   DiabetesPedigreeFunction  768 non-null    float64\n",
            " 7   Age                       768 non-null    int64  \n",
            " 8   Outcome                   768 non-null    int64  \n",
            "dtypes: float64(2), int64(7)\n",
            "memory usage: 54.1 KB\n"
          ]
        }
      ],
      "source": [
        "df.info()"
      ]
    },
    {
      "cell_type": "markdown",
      "id": "9d43ff93",
      "metadata": {
        "id": "9d43ff93"
      },
      "source": [
        "## Data Preprocessing"
      ]
    },
    {
      "cell_type": "markdown",
      "id": "f1e3f990",
      "metadata": {
        "id": "f1e3f990"
      },
      "source": [
        "### Missing Value"
      ]
    },
    {
      "cell_type": "code",
      "execution_count": null,
      "id": "fa43a38c",
      "metadata": {
        "id": "fa43a38c",
        "outputId": "ce5c7737-d1fd-4111-dc2d-b51edb26d5ef"
      },
      "outputs": [
        {
          "data": {
            "text/plain": [
              "Pregnancies                 0\n",
              "Glucose                     0\n",
              "BloodPressure               0\n",
              "SkinThickness               0\n",
              "Insulin                     0\n",
              "BMI                         0\n",
              "DiabetesPedigreeFunction    0\n",
              "Age                         0\n",
              "Outcome                     0\n",
              "dtype: int64"
            ]
          },
          "execution_count": 4,
          "metadata": {},
          "output_type": "execute_result"
        }
      ],
      "source": [
        "df.isnull().sum()"
      ]
    },
    {
      "cell_type": "markdown",
      "id": "8016f854",
      "metadata": {
        "id": "8016f854"
      },
      "source": [
        "### Duplicated"
      ]
    },
    {
      "cell_type": "code",
      "execution_count": null,
      "id": "8cfa2b72",
      "metadata": {
        "id": "8cfa2b72",
        "outputId": "2f46d9b3-f0c9-4d15-b53b-c11b6111b8ca"
      },
      "outputs": [
        {
          "data": {
            "text/plain": [
              "0"
            ]
          },
          "execution_count": 5,
          "metadata": {},
          "output_type": "execute_result"
        }
      ],
      "source": [
        "df.duplicated().sum()"
      ]
    },
    {
      "cell_type": "markdown",
      "id": "535f9b42",
      "metadata": {
        "id": "535f9b42"
      },
      "source": [
        "### Outlier Handling"
      ]
    },
    {
      "cell_type": "code",
      "execution_count": null,
      "id": "c8add924",
      "metadata": {
        "id": "c8add924",
        "outputId": "1c9cfad9-cbf0-45f2-8142-157ea65454fb"
      },
      "outputs": [
        {
          "data": {
            "text/plain": [
              "['Pregnancies',\n",
              " 'Glucose',\n",
              " 'BloodPressure',\n",
              " 'SkinThickness',\n",
              " 'Insulin',\n",
              " 'BMI',\n",
              " 'DiabetesPedigreeFunction',\n",
              " 'Age']"
            ]
          },
          "execution_count": 6,
          "metadata": {},
          "output_type": "execute_result"
        }
      ],
      "source": [
        "features  = list(df)[:-1]\n",
        "features"
      ]
    },
    {
      "cell_type": "code",
      "execution_count": null,
      "id": "984d5d87",
      "metadata": {
        "id": "984d5d87",
        "outputId": "81ac49c7-2cab-43e9-98f2-2ab0abf1460d"
      },
      "outputs": [
        {
          "data": {
            "image/png": "[encoded data removed]",
            "text/plain": [
              "<Figure size 1080x504 with 8 Axes>"
            ]
          },
          "metadata": {
            "needs_background": "light"
          },
          "output_type": "display_data"
        }
      ],
      "source": [
        "plt.figure(figsize=(15, 7))\n",
        "for i in range(0, len(features)):\n",
        "    plt.subplot(1, 8, i+1)\n",
        "    sns.boxplot(y=features[i],data=df,color='green')\n",
        "    plt.tight_layout()"
      ]
    },
    {
      "cell_type": "code",
      "execution_count": null,
      "id": "eb09fb2a",
      "metadata": {
        "id": "eb09fb2a",
        "outputId": "ab8ce69b-70db-419d-ad93-8906af5a40ba"
      },
      "outputs": [
        {
          "data": {
            "text/html": [
              "<div>\n",
              "<style scoped>\n",
              "    .dataframe tbody tr th:only-of-type {\n",
              "        vertical-align: middle;\n",
              "    }\n",
              "\n",
              "    .dataframe tbody tr th {\n",
              "        vertical-align: top;\n",
              "    }\n",
              "\n",
              "    .dataframe thead th {\n",
              "        text-align: right;\n",
              "    }\n",
              "</style>\n",
              "<table border=\"1\" class=\"dataframe\">\n",
              "  <thead>\n",
              "    <tr style=\"text-align: right;\">\n",
              "      <th></th>\n",
              "      <th>Pregnancies</th>\n",
              "      <th>Glucose</th>\n",
              "      <th>BloodPressure</th>\n",
              "      <th>SkinThickness</th>\n",
              "      <th>Insulin</th>\n",
              "      <th>BMI</th>\n",
              "      <th>DiabetesPedigreeFunction</th>\n",
              "      <th>Age</th>\n",
              "      <th>Outcome</th>\n",
              "    </tr>\n",
              "  </thead>\n",
              "  <tbody>\n",
              "    <tr>\n",
              "      <th>0</th>\n",
              "      <td>6</td>\n",
              "      <td>148</td>\n",
              "      <td>72</td>\n",
              "      <td>35</td>\n",
              "      <td>0</td>\n",
              "      <td>33.6</td>\n",
              "      <td>0.627</td>\n",
              "      <td>50</td>\n",
              "      <td>1</td>\n",
              "    </tr>\n",
              "    <tr>\n",
              "      <th>1</th>\n",
              "      <td>1</td>\n",
              "      <td>85</td>\n",
              "      <td>66</td>\n",
              "      <td>29</td>\n",
              "      <td>0</td>\n",
              "      <td>26.6</td>\n",
              "      <td>0.351</td>\n",
              "      <td>31</td>\n",
              "      <td>0</td>\n",
              "    </tr>\n",
              "    <tr>\n",
              "      <th>2</th>\n",
              "      <td>8</td>\n",
              "      <td>183</td>\n",
              "      <td>64</td>\n",
              "      <td>0</td>\n",
              "      <td>0</td>\n",
              "      <td>23.3</td>\n",
              "      <td>0.672</td>\n",
              "      <td>32</td>\n",
              "      <td>1</td>\n",
              "    </tr>\n",
              "    <tr>\n",
              "      <th>3</th>\n",
              "      <td>1</td>\n",
              "      <td>89</td>\n",
              "      <td>66</td>\n",
              "      <td>23</td>\n",
              "      <td>94</td>\n",
              "      <td>28.1</td>\n",
              "      <td>0.167</td>\n",
              "      <td>21</td>\n",
              "      <td>0</td>\n",
              "    </tr>\n",
              "    <tr>\n",
              "      <th>4</th>\n",
              "      <td>0</td>\n",
              "      <td>137</td>\n",
              "      <td>40</td>\n",
              "      <td>35</td>\n",
              "      <td>168</td>\n",
              "      <td>43.1</td>\n",
              "      <td>2.288</td>\n",
              "      <td>33</td>\n",
              "      <td>1</td>\n",
              "    </tr>\n",
              "  </tbody>\n",
              "</table>\n",
              "</div>"
            ],
            "text/plain": [
              "   Pregnancies  Glucose  BloodPressure  SkinThickness  Insulin   BMI  \\\n",
              "0            6      148             72             35        0  33.6   \n",
              "1            1       85             66             29        0  26.6   \n",
              "2            8      183             64              0        0  23.3   \n",
              "3            1       89             66             23       94  28.1   \n",
              "4            0      137             40             35      168  43.1   \n",
              "\n",
              "   DiabetesPedigreeFunction  Age  Outcome  \n",
              "0                     0.627   50        1  \n",
              "1                     0.351   31        0  \n",
              "2                     0.672   32        1  \n",
              "3                     0.167   21        0  \n",
              "4                     2.288   33        1  "
            ]
          },
          "execution_count": 8,
          "metadata": {},
          "output_type": "execute_result"
        }
      ],
      "source": [
        "df.head()"
      ]
    },
    {
      "cell_type": "code",
      "execution_count": null,
      "id": "f1e277eb",
      "metadata": {
        "id": "f1e277eb"
      },
      "outputs": [],
      "source": [
        "outlier_features =['Pregnancies','SkinThickness','Insulin','BMI','DiabetesPedigreeFunction','Age']\n",
        "for i in outlier_features:\n",
        "    df[i] = np.log(df[i]+1)"
      ]
    },
    {
      "cell_type": "code",
      "execution_count": null,
      "id": "a760a42d",
      "metadata": {
        "id": "a760a42d",
        "outputId": "8b844060-8510-49fa-91dd-5b99b3c554b5"
      },
      "outputs": [
        {
          "data": {
            "image/png": "[encoded data removed]",
            "text/plain": [
              "<Figure size 1080x504 with 8 Axes>"
            ]
          },
          "metadata": {
            "needs_background": "light"
          },
          "output_type": "display_data"
        }
      ],
      "source": [
        "plt.figure(figsize=(15, 7))\n",
        "for i in range(0, len(features)):\n",
        "    plt.subplot(1, 8, i+1)\n",
        "    sns.boxplot(y=features[i],data=df,color='green')\n",
        "    plt.tight_layout()"
      ]
    },
    {
      "cell_type": "markdown",
      "id": "0773652c",
      "metadata": {
        "id": "0773652c"
      },
      "source": [
        "### Multicolinearity Handling"
      ]
    },
    {
      "cell_type": "code",
      "execution_count": null,
      "id": "a2ad1dbb",
      "metadata": {
        "id": "a2ad1dbb",
        "outputId": "04550fdd-a02f-485c-c513-6e3ae2184d96"
      },
      "outputs": [
        {
          "data": {
            "text/plain": [
              "<AxesSubplot:>"
            ]
          },
          "execution_count": 11,
          "metadata": {},
          "output_type": "execute_result"
        },
        {
          "data": {
            "image/png": "[encoded data removed]",
            "text/plain": [
              "<Figure size 1152x720 with 2 Axes>"
            ]
          },
          "metadata": {
            "needs_background": "light"
          },
          "output_type": "display_data"
        }
      ],
      "source": [
        "corr_= df.corr()\n",
        "plt.figure(figsize=(16,10))\n",
        "sns.heatmap(corr_, annot=True, fmt = \".2f\", cmap = \"BuPu\")"
      ]
    },
    {
      "cell_type": "code",
      "execution_count": null,
      "id": "62ef05db",
      "metadata": {
        "id": "62ef05db"
      },
      "outputs": [],
      "source": [
        "# df = df.drop('Pregnancies', axis=1)"
      ]
    },
    {
      "cell_type": "markdown",
      "id": "19be44f8",
      "metadata": {
        "id": "19be44f8"
      },
      "source": [
        "### Feature + Target"
      ]
    },
    {
      "cell_type": "code",
      "execution_count": null,
      "id": "f9a7d98c",
      "metadata": {
        "id": "f9a7d98c"
      },
      "outputs": [],
      "source": [
        "X = df.drop('Outcome', axis=1)\n",
        "y = df['Outcome']"
      ]
    },
    {
      "cell_type": "markdown",
      "id": "8dac44e4",
      "metadata": {
        "id": "8dac44e4"
      },
      "source": [
        "### Scaling"
      ]
    },
    {
      "cell_type": "code",
      "execution_count": null,
      "id": "838f24f2",
      "metadata": {
        "id": "838f24f2"
      },
      "outputs": [],
      "source": [
        "from sklearn.preprocessing import StandardScaler\n",
        "\n",
        "scaler = StandardScaler()\n",
        "scaler.fit(X)\n",
        "X_std = scaler.transform(X)"
      ]
    },
    {
      "cell_type": "markdown",
      "id": "fc9b589d",
      "metadata": {
        "id": "fc9b589d"
      },
      "source": [
        "### Split Data"
      ]
    },
    {
      "cell_type": "code",
      "execution_count": null,
      "id": "0cbc6373",
      "metadata": {
        "id": "0cbc6373"
      },
      "outputs": [],
      "source": [
        "from sklearn.model_selection import train_test_split \n",
        "X_train, X_test,y_train,y_test = train_test_split(X_std,\n",
        "                                                y,\n",
        "                                                test_size = 0.3,\n",
        "                                                random_state = 42)"
      ]
    },
    {
      "cell_type": "markdown",
      "id": "9a3ce360",
      "metadata": {
        "id": "9a3ce360"
      },
      "source": [
        "## Modeling"
      ]
    },
    {
      "cell_type": "markdown",
      "id": "1065577a",
      "metadata": {
        "id": "1065577a"
      },
      "source": [
        "### KNN"
      ]
    },
    {
      "cell_type": "code",
      "execution_count": null,
      "id": "11f3b0a8",
      "metadata": {
        "id": "11f3b0a8",
        "outputId": "74443254-da85-4f93-bc93-4d68eaa86b75"
      },
      "outputs": [
        {
          "data": {
            "text/plain": [
              "KNeighborsClassifier()"
            ]
          },
          "execution_count": 16,
          "metadata": {},
          "output_type": "execute_result"
        }
      ],
      "source": [
        "from sklearn.neighbors import KNeighborsClassifier\n",
        "\n",
        "knn = KNeighborsClassifier()\n",
        "knn.fit(X_train, y_train)"
      ]
    },
    {
      "cell_type": "markdown",
      "id": "1ac959da",
      "metadata": {
        "id": "1ac959da"
      },
      "source": [
        "### Logreg"
      ]
    },
    {
      "cell_type": "code",
      "execution_count": null,
      "id": "2428085b",
      "metadata": {
        "id": "2428085b",
        "outputId": "2fcb6f26-3159-4f02-e206-458030b3a4a8"
      },
      "outputs": [
        {
          "data": {
            "text/plain": [
              "LogisticRegression(random_state=42)"
            ]
          },
          "execution_count": 17,
          "metadata": {},
          "output_type": "execute_result"
        }
      ],
      "source": [
        "from sklearn.linear_model import LogisticRegression\n",
        "\n",
        "logreg = LogisticRegression(random_state=42)\n",
        "logreg.fit(X_train, y_train)"
      ]
    },
    {
      "cell_type": "markdown",
      "id": "7797a320",
      "metadata": {
        "id": "7797a320"
      },
      "source": [
        "### Decission Tree"
      ]
    },
    {
      "cell_type": "code",
      "execution_count": null,
      "id": "a92f1ae0",
      "metadata": {
        "id": "a92f1ae0",
        "outputId": "488dac69-09c2-4450-b535-77a3f948aff7"
      },
      "outputs": [
        {
          "data": {
            "text/plain": [
              "DecisionTreeClassifier(random_state=42)"
            ]
          },
          "execution_count": 18,
          "metadata": {},
          "output_type": "execute_result"
        }
      ],
      "source": [
        "from sklearn.tree import DecisionTreeClassifier\n",
        "\n",
        "dt = DecisionTreeClassifier(random_state=42)\n",
        "dt.fit(X_train,y_train)"
      ]
    },
    {
      "cell_type": "markdown",
      "id": "7ed96684",
      "metadata": {
        "id": "7ed96684"
      },
      "source": [
        "## Evaluation"
      ]
    },
    {
      "cell_type": "code",
      "execution_count": null,
      "id": "1f815793",
      "metadata": {
        "id": "1f815793"
      },
      "outputs": [],
      "source": [
        "y_pred_knn = knn.predict(X_test)\n",
        "\n",
        "y_pred_reg = logreg.predict(X_test)\n",
        "\n",
        "y_pred_dt = dt.predict(X_test)"
      ]
    },
    {
      "cell_type": "code",
      "execution_count": null,
      "id": "1f94a435",
      "metadata": {
        "id": "1f94a435",
        "outputId": "1f38fb99-7ed8-4794-af82-9fe223886aab"
      },
      "outputs": [
        {
          "name": "stdout",
          "output_type": "stream",
          "text": [
            "Akurasi KNN 0.683982683982684\n"
          ]
        }
      ],
      "source": [
        "print('Akurasi KNN',accuracy_score(y_test, y_pred_knn))"
      ]
    },
    {
      "cell_type": "code",
      "execution_count": null,
      "id": "c69ed7fb",
      "metadata": {
        "id": "c69ed7fb",
        "outputId": "df0ee85f-7c2a-40b3-8964-f41f42d02561"
      },
      "outputs": [
        {
          "name": "stdout",
          "output_type": "stream",
          "text": [
            "Akurasi Logreg 0.7489177489177489\n"
          ]
        }
      ],
      "source": [
        "print('Akurasi Logreg',accuracy_score(y_test, y_pred_reg))"
      ]
    },
    {
      "cell_type": "code",
      "execution_count": null,
      "id": "72d23389",
      "metadata": {
        "id": "72d23389",
        "outputId": "e7006371-bb2b-41cc-b06f-386c38131397"
      },
      "outputs": [
        {
          "name": "stdout",
          "output_type": "stream",
          "text": [
            "Akurasi Decission Tree 0.7056277056277056\n"
          ]
        }
      ],
      "source": [
        "print('Akurasi Decission Tree',accuracy_score(y_test, y_pred_dt))"
      ]
    }
  ],
  "metadata": {
    "kernelspec": {
      "display_name": "gpuenv",
      "language": "python",
      "name": "gpuenv"
    },
    "language_info": {
      "codemirror_mode": {
        "name": "ipython",
        "version": 3
      },
      "file_extension": ".py",
      "mimetype": "text/x-python",
      "name": "python",
      "nbconvert_exporter": "python",
      "pygments_lexer": "ipython3",
      "version": "3.6.13"
    },
    "toc": {
      "base_numbering": 1,
      "nav_menu": {},
      "number_sections": true,
      "sideBar": true,
      "skip_h1_title": false,
      "title_cell": "Table of Contents",
      "title_sidebar": "Contents",
      "toc_cell": false,
      "toc_position": {},
      "toc_section_display": true,
      "toc_window_display": true
    },
    "varInspector": {
      "cols": {
        "lenName": 16,
        "lenType": 16,
        "lenVar": 40
      },
      "kernels_config": {
        "python": {
          "delete_cmd_postfix": "",
          "delete_cmd_prefix": "del ",
          "library": "var_list.py",
          "varRefreshCmd": "print(var_dic_list())"
        },
        "r": {
          "delete_cmd_postfix": ") ",
          "delete_cmd_prefix": "rm(",
          "library": "var_list.r",
          "varRefreshCmd": "cat(var_dic_list()) "
        }
      },
      "types_to_exclude": [
        "module",
        "function",
        "builtin_function_or_method",
        "instance",
        "_Feature"
      ],
      "window_display": false
    },
    "colab": {
      "name": "Hands on -  Machine Learning Models with Python (Supervised - Part 1).ipynb",
      "provenance": [],
      "toc_visible": true
    }
  },
  "nbformat": 4,
  "nbformat_minor": 5
}