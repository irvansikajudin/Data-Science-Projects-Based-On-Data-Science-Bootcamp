{
  "nbformat": 4,
  "nbformat_minor": 0,
  "metadata": {
    "colab": {
      "name": "Day 16 - Regularized Regression in Python (Ref: Muhammad Lutfi)",
      "provenance": [],
      "toc_visible": true
    },
    "kernelspec": {
      "name": "python3",
      "display_name": "Python 3"
    },
    "language_info": {
      "name": "python"
    }
  },
  "cells": [
    {
      "cell_type": "code",
      "execution_count": null,
      "metadata": {
        "id": "07JzZLbNWlYS"
      },
      "outputs": [],
      "source": [
        "# import libraries\n",
        "import numpy as np\n",
        "import pandas as pd\n",
        "import seaborn as sns\n",
        "import matplotlib.pyplot as plt\n",
        "\n",
        "import warnings\n",
        "warnings.filterwarnings('ignore')"
      ]
    },
    {
      "cell_type": "code",
      "source": [
        "from google.colab import drive\n",
        "drive.mount('/content/drive')"
      ],
      "metadata": {
        "colab": {
          "base_uri": "https://localhost:8080/"
        },
        "id": "dTvI4NUwWozT",
        "outputId": "70a947e3-97cc-491f-ac90-b944bc71a220"
      },
      "execution_count": null,
      "outputs": [
        {
          "output_type": "stream",
          "name": "stdout",
          "text": [
            "Mounted at /content/drive\n"
          ]
        }
      ]
    },
    {
      "cell_type": "code",
      "source": [
        "df = pd.read_csv('/content/drive/MyDrive/Dibimbingdataset/boston.csv')\n",
        "# .replace(r'^\\s*$', np.nan, regex=True)\n",
        "df.head()"
      ],
      "metadata": {
        "colab": {
          "base_uri": "https://localhost:8080/",
          "height": 270
        },
        "id": "jRiY7nENXC24",
        "outputId": "7d51687d-dee9-4255-802e-251c24d49275"
      },
      "execution_count": null,
      "outputs": [
        {
          "output_type": "execute_result",
          "data": {
            "text/plain": [
              "      crim    zn  indus  chas    nox     rm   age     dis  rad  tax  ptratio  \\\n",
              "0  0.00632  18.0   2.31     0  0.538  6.575  65.2  4.0900    1  296     15.3   \n",
              "1  0.02731   0.0   7.07     0  0.469  6.421  78.9  4.9671    2  242     17.8   \n",
              "2  0.02729   0.0   7.07     0  0.469  7.185  61.1  4.9671    2  242     17.8   \n",
              "3  0.03237   0.0   2.18     0  0.458  6.998  45.8  6.0622    3  222     18.7   \n",
              "4  0.06905   0.0   2.18     0  0.458  7.147  54.2  6.0622    3  222     18.7   \n",
              "\n",
              "    black  lstat  medv  \n",
              "0  396.90   4.98  24.0  \n",
              "1  396.90   9.14  21.6  \n",
              "2  392.83   4.03  34.7  \n",
              "3  394.63   2.94  33.4  \n",
              "4  396.90   5.33  36.2  "
            ],
            "text/html": [
              "\n",
              "  <div id=\"df-3cab250e-2f92-489a-9935-ebbdc319dfd8\">\n",
              "    <div class=\"colab-df-container\">\n",
              "      <div>\n",
              "<style scoped>\n",
              "    .dataframe tbody tr th:only-of-type {\n",
              "        vertical-align: middle;\n",
              "    }\n",
              "\n",
              "    .dataframe tbody tr th {\n",
              "        vertical-align: top;\n",
              "    }\n",
              "\n",
              "    .dataframe thead th {\n",
              "        text-align: right;\n",
              "    }\n",
              "</style>\n",
              "<table border=\"1\" class=\"dataframe\">\n",
              "  <thead>\n",
              "    <tr style=\"text-align: right;\">\n",
              "      <th></th>\n",
              "      <th>crim</th>\n",
              "      <th>zn</th>\n",
              "      <th>indus</th>\n",
              "      <th>chas</th>\n",
              "      <th>nox</th>\n",
              "      <th>rm</th>\n",
              "      <th>age</th>\n",
              "      <th>dis</th>\n",
              "      <th>rad</th>\n",
              "      <th>tax</th>\n",
              "      <th>ptratio</th>\n",
              "      <th>black</th>\n",
              "      <th>lstat</th>\n",
              "      <th>medv</th>\n",
              "    </tr>\n",
              "  </thead>\n",
              "  <tbody>\n",
              "    <tr>\n",
              "      <th>0</th>\n",
              "      <td>0.00632</td>\n",
              "      <td>18.0</td>\n",
              "      <td>2.31</td>\n",
              "      <td>0</td>\n",
              "      <td>0.538</td>\n",
              "      <td>6.575</td>\n",
              "      <td>65.2</td>\n",
              "      <td>4.0900</td>\n",
              "      <td>1</td>\n",
              "      <td>296</td>\n",
              "      <td>15.3</td>\n",
              "      <td>396.90</td>\n",
              "      <td>4.98</td>\n",
              "      <td>24.0</td>\n",
              "    </tr>\n",
              "    <tr>\n",
              "      <th>1</th>\n",
              "      <td>0.02731</td>\n",
              "      <td>0.0</td>\n",
              "      <td>7.07</td>\n",
              "      <td>0</td>\n",
              "      <td>0.469</td>\n",
              "      <td>6.421</td>\n",
              "      <td>78.9</td>\n",
              "      <td>4.9671</td>\n",
              "      <td>2</td>\n",
              "      <td>242</td>\n",
              "      <td>17.8</td>\n",
              "      <td>396.90</td>\n",
              "      <td>9.14</td>\n",
              "      <td>21.6</td>\n",
              "    </tr>\n",
              "    <tr>\n",
              "      <th>2</th>\n",
              "      <td>0.02729</td>\n",
              "      <td>0.0</td>\n",
              "      <td>7.07</td>\n",
              "      <td>0</td>\n",
              "      <td>0.469</td>\n",
              "      <td>7.185</td>\n",
              "      <td>61.1</td>\n",
              "      <td>4.9671</td>\n",
              "      <td>2</td>\n",
              "      <td>242</td>\n",
              "      <td>17.8</td>\n",
              "      <td>392.83</td>\n",
              "      <td>4.03</td>\n",
              "      <td>34.7</td>\n",
              "    </tr>\n",
              "    <tr>\n",
              "      <th>3</th>\n",
              "      <td>0.03237</td>\n",
              "      <td>0.0</td>\n",
              "      <td>2.18</td>\n",
              "      <td>0</td>\n",
              "      <td>0.458</td>\n",
              "      <td>6.998</td>\n",
              "      <td>45.8</td>\n",
              "      <td>6.0622</td>\n",
              "      <td>3</td>\n",
              "      <td>222</td>\n",
              "      <td>18.7</td>\n",
              "      <td>394.63</td>\n",
              "      <td>2.94</td>\n",
              "      <td>33.4</td>\n",
              "    </tr>\n",
              "    <tr>\n",
              "      <th>4</th>\n",
              "      <td>0.06905</td>\n",
              "      <td>0.0</td>\n",
              "      <td>2.18</td>\n",
              "      <td>0</td>\n",
              "      <td>0.458</td>\n",
              "      <td>7.147</td>\n",
              "      <td>54.2</td>\n",
              "      <td>6.0622</td>\n",
              "      <td>3</td>\n",
              "      <td>222</td>\n",
              "      <td>18.7</td>\n",
              "      <td>396.90</td>\n",
              "      <td>5.33</td>\n",
              "      <td>36.2</td>\n",
              "    </tr>\n",
              "  </tbody>\n",
              "</table>\n",
              "</div>\n",
              "      <button class=\"colab-df-convert\" onclick=\"convertToInteractive('df-3cab250e-2f92-489a-9935-ebbdc319dfd8')\"\n",
              "              title=\"Convert this dataframe to an interactive table.\"\n",
              "              style=\"display:none;\">\n",
              "        \n",
              "  <svg xmlns=\"http://www.w3.org/2000/svg\" height=\"24px\"viewBox=\"0 0 24 24\"\n",
              "       width=\"24px\">\n",
              "    <path d=\"M0 0h24v24H0V0z\" fill=\"none\"/>\n",
              "    <path d=\"M18.56 5.44l.94 2.06.94-2.06 2.06-.94-2.06-.94-.94-2.06-.94 2.06-2.06.94zm-11 1L8.5 8.5l.94-2.06 2.06-.94-2.06-.94L8.5 2.5l-.94 2.06-2.06.94zm10 10l.94 2.06.94-2.06 2.06-.94-2.06-.94-.94-2.06-.94 2.06-2.06.94z\"/><path d=\"M17.41 7.96l-1.37-1.37c-.4-.4-.92-.59-1.43-.59-.52 0-1.04.2-1.43.59L10.3 9.45l-7.72 7.72c-.78.78-.78 2.05 0 2.83L4 21.41c.39.39.9.59 1.41.59.51 0 1.02-.2 1.41-.59l7.78-7.78 2.81-2.81c.8-.78.8-2.07 0-2.86zM5.41 20L4 18.59l7.72-7.72 1.47 1.35L5.41 20z\"/>\n",
              "  </svg>\n",
              "      </button>\n",
              "      \n",
              "  <style>\n",
              "    .colab-df-container {\n",
              "      display:flex;\n",
              "      flex-wrap:wrap;\n",
              "      gap: 12px;\n",
              "    }\n",
              "\n",
              "    .colab-df-convert {\n",
              "      background-color: #E8F0FE;\n",
              "      border: none;\n",
              "      border-radius: 50%;\n",
              "      cursor: pointer;\n",
              "      display: none;\n",
              "      fill: #1967D2;\n",
              "      height: 32px;\n",
              "      padding: 0 0 0 0;\n",
              "      width: 32px;\n",
              "    }\n",
              "\n",
              "    .colab-df-convert:hover {\n",
              "      background-color: #E2EBFA;\n",
              "      box-shadow: 0px 1px 2px rgba(60, 64, 67, 0.3), 0px 1px 3px 1px rgba(60, 64, 67, 0.15);\n",
              "      fill: #174EA6;\n",
              "    }\n",
              "\n",
              "    [theme=dark] .colab-df-convert {\n",
              "      background-color: #3B4455;\n",
              "      fill: #D2E3FC;\n",
              "    }\n",
              "\n",
              "    [theme=dark] .colab-df-convert:hover {\n",
              "      background-color: #434B5C;\n",
              "      box-shadow: 0px 1px 3px 1px rgba(0, 0, 0, 0.15);\n",
              "      filter: drop-shadow(0px 1px 2px rgba(0, 0, 0, 0.3));\n",
              "      fill: #FFFFFF;\n",
              "    }\n",
              "  </style>\n",
              "\n",
              "      <script>\n",
              "        const buttonEl =\n",
              "          document.querySelector('#df-3cab250e-2f92-489a-9935-ebbdc319dfd8 button.colab-df-convert');\n",
              "        buttonEl.style.display =\n",
              "          google.colab.kernel.accessAllowed ? 'block' : 'none';\n",
              "\n",
              "        async function convertToInteractive(key) {\n",
              "          const element = document.querySelector('#df-3cab250e-2f92-489a-9935-ebbdc319dfd8');\n",
              "          const dataTable =\n",
              "            await google.colab.kernel.invokeFunction('convertToInteractive',\n",
              "                                                     [key], {});\n",
              "          if (!dataTable) return;\n",
              "\n",
              "          const docLinkHtml = 'Like what you see? Visit the ' +\n",
              "            '<a target=\"_blank\" href=https://colab.research.google.com/notebooks/data_table.ipynb>data table notebook</a>'\n",
              "            + ' to learn more about interactive tables.';\n",
              "          element.innerHTML = '';\n",
              "          dataTable['output_type'] = 'display_data';\n",
              "          await google.colab.output.renderOutput(dataTable, element);\n",
              "          const docLink = document.createElement('div');\n",
              "          docLink.innerHTML = docLinkHtml;\n",
              "          element.appendChild(docLink);\n",
              "        }\n",
              "      </script>\n",
              "    </div>\n",
              "  </div>\n",
              "  "
            ]
          },
          "metadata": {},
          "execution_count": 3
        }
      ]
    },
    {
      "cell_type": "code",
      "source": [
        "df.info()"
      ],
      "metadata": {
        "colab": {
          "base_uri": "https://localhost:8080/"
        },
        "id": "O6zt5D0rOoFn",
        "outputId": "2b592beb-532f-44f7-92e0-cd9d76cb6f0e"
      },
      "execution_count": null,
      "outputs": [
        {
          "output_type": "stream",
          "name": "stdout",
          "text": [
            "<class 'pandas.core.frame.DataFrame'>\n",
            "RangeIndex: 506 entries, 0 to 505\n",
            "Data columns (total 14 columns):\n",
            " #   Column   Non-Null Count  Dtype  \n",
            "---  ------   --------------  -----  \n",
            " 0   crim     506 non-null    float64\n",
            " 1   zn       506 non-null    float64\n",
            " 2   indus    506 non-null    float64\n",
            " 3   chas     506 non-null    int64  \n",
            " 4   nox      506 non-null    float64\n",
            " 5   rm       506 non-null    float64\n",
            " 6   age      506 non-null    float64\n",
            " 7   dis      506 non-null    float64\n",
            " 8   rad      506 non-null    int64  \n",
            " 9   tax      506 non-null    int64  \n",
            " 10  ptratio  506 non-null    float64\n",
            " 11  black    506 non-null    float64\n",
            " 12  lstat    506 non-null    float64\n",
            " 13  medv     506 non-null    float64\n",
            "dtypes: float64(11), int64(3)\n",
            "memory usage: 55.5 KB\n"
          ]
        }
      ]
    },
    {
      "cell_type": "code",
      "source": [
        "df[\"medv\"].describe()"
      ],
      "metadata": {
        "colab": {
          "base_uri": "https://localhost:8080/"
        },
        "id": "d_3MgblEThGh",
        "outputId": "f4dbc81e-ebd6-4adf-c72b-28ed1df8a105"
      },
      "execution_count": null,
      "outputs": [
        {
          "output_type": "execute_result",
          "data": {
            "text/plain": [
              "count    506.000000\n",
              "mean      22.532806\n",
              "std        9.197104\n",
              "min        5.000000\n",
              "25%       17.025000\n",
              "50%       21.200000\n",
              "75%       25.000000\n",
              "max       50.000000\n",
              "Name: medv, dtype: float64"
            ]
          },
          "metadata": {},
          "execution_count": 7
        }
      ]
    },
    {
      "cell_type": "markdown",
      "source": [
        "# Preparation and Multicolinearity Handling"
      ],
      "metadata": {
        "id": "7UE57dG_tt5n"
      }
    },
    {
      "cell_type": "code",
      "source": [
        "# split train test\n",
        "from sklearn.model_selection import train_test_split\n",
        "\n",
        "feature = df.drop(columns='medv')\n",
        "target = df[['medv']]\n",
        "\n",
        "feature_df_train, feature_df_test, target_df_train, target_df_test = train_test_split(feature, target, test_size=0.20, random_state=42)\n",
        "feature_df_train, feature_df_validation, target_df_train, target_df_validation = train_test_split(feature_df_train, target_df_train, test_size=0.20, random_state=42)"
      ],
      "metadata": {
        "id": "vpa_g0wkYA10"
      },
      "execution_count": null,
      "outputs": []
    },
    {
      "cell_type": "markdown",
      "source": [
        "## VIF check"
      ],
      "metadata": {
        "id": "4Q8edFWut1dq"
      }
    },
    {
      "cell_type": "code",
      "source": [
        "# calculate VIF scores\n",
        "from statsmodels.stats.outliers_influence import variance_inflation_factor as vif \n",
        "from statsmodels.tools.tools import add_constant\n",
        "\n",
        "X = add_constant(feature_df_train)\n",
        "\n",
        "vif_df = pd.DataFrame([vif(X.values, i) \n",
        "               for i in range(X.shape[1])], \n",
        "              index=X.columns).reset_index()\n",
        "vif_df.columns = ['feature','vif_score']\n",
        "vif_df = vif_df.loc[vif_df.feature!='const']\n",
        "vif_df"
      ],
      "metadata": {
        "colab": {
          "base_uri": "https://localhost:8080/",
          "height": 457
        },
        "id": "8hjLGamKYuRR",
        "outputId": "f59c8b34-e378-4c4e-8454-2bdaa27330e0"
      },
      "execution_count": null,
      "outputs": [
        {
          "output_type": "execute_result",
          "data": {
            "text/plain": [
              "    feature  vif_score\n",
              "1      crim   1.750939\n",
              "2        zn   2.473421\n",
              "3     indus   3.741988\n",
              "4      chas   1.110042\n",
              "5       nox   4.585650\n",
              "6        rm   1.972174\n",
              "7       age   3.127443\n",
              "8       dis   4.390458\n",
              "9       rad   7.182410\n",
              "10      tax   8.268145\n",
              "11  ptratio   1.854101\n",
              "12    black   1.369229\n",
              "13    lstat   3.020946"
            ],
            "text/html": [
              "\n",
              "  <div id=\"df-df414c1c-6b53-41f5-91c9-6ea901c7ac7d\">\n",
              "    <div class=\"colab-df-container\">\n",
              "      <div>\n",
              "<style scoped>\n",
              "    .dataframe tbody tr th:only-of-type {\n",
              "        vertical-align: middle;\n",
              "    }\n",
              "\n",
              "    .dataframe tbody tr th {\n",
              "        vertical-align: top;\n",
              "    }\n",
              "\n",
              "    .dataframe thead th {\n",
              "        text-align: right;\n",
              "    }\n",
              "</style>\n",
              "<table border=\"1\" class=\"dataframe\">\n",
              "  <thead>\n",
              "    <tr style=\"text-align: right;\">\n",
              "      <th></th>\n",
              "      <th>feature</th>\n",
              "      <th>vif_score</th>\n",
              "    </tr>\n",
              "  </thead>\n",
              "  <tbody>\n",
              "    <tr>\n",
              "      <th>1</th>\n",
              "      <td>crim</td>\n",
              "      <td>1.750939</td>\n",
              "    </tr>\n",
              "    <tr>\n",
              "      <th>2</th>\n",
              "      <td>zn</td>\n",
              "      <td>2.473421</td>\n",
              "    </tr>\n",
              "    <tr>\n",
              "      <th>3</th>\n",
              "      <td>indus</td>\n",
              "      <td>3.741988</td>\n",
              "    </tr>\n",
              "    <tr>\n",
              "      <th>4</th>\n",
              "      <td>chas</td>\n",
              "      <td>1.110042</td>\n",
              "    </tr>\n",
              "    <tr>\n",
              "      <th>5</th>\n",
              "      <td>nox</td>\n",
              "      <td>4.585650</td>\n",
              "    </tr>\n",
              "    <tr>\n",
              "      <th>6</th>\n",
              "      <td>rm</td>\n",
              "      <td>1.972174</td>\n",
              "    </tr>\n",
              "    <tr>\n",
              "      <th>7</th>\n",
              "      <td>age</td>\n",
              "      <td>3.127443</td>\n",
              "    </tr>\n",
              "    <tr>\n",
              "      <th>8</th>\n",
              "      <td>dis</td>\n",
              "      <td>4.390458</td>\n",
              "    </tr>\n",
              "    <tr>\n",
              "      <th>9</th>\n",
              "      <td>rad</td>\n",
              "      <td>7.182410</td>\n",
              "    </tr>\n",
              "    <tr>\n",
              "      <th>10</th>\n",
              "      <td>tax</td>\n",
              "      <td>8.268145</td>\n",
              "    </tr>\n",
              "    <tr>\n",
              "      <th>11</th>\n",
              "      <td>ptratio</td>\n",
              "      <td>1.854101</td>\n",
              "    </tr>\n",
              "    <tr>\n",
              "      <th>12</th>\n",
              "      <td>black</td>\n",
              "      <td>1.369229</td>\n",
              "    </tr>\n",
              "    <tr>\n",
              "      <th>13</th>\n",
              "      <td>lstat</td>\n",
              "      <td>3.020946</td>\n",
              "    </tr>\n",
              "  </tbody>\n",
              "</table>\n",
              "</div>\n",
              "      <button class=\"colab-df-convert\" onclick=\"convertToInteractive('df-df414c1c-6b53-41f5-91c9-6ea901c7ac7d')\"\n",
              "              title=\"Convert this dataframe to an interactive table.\"\n",
              "              style=\"display:none;\">\n",
              "        \n",
              "  <svg xmlns=\"http://www.w3.org/2000/svg\" height=\"24px\"viewBox=\"0 0 24 24\"\n",
              "       width=\"24px\">\n",
              "    <path d=\"M0 0h24v24H0V0z\" fill=\"none\"/>\n",
              "    <path d=\"M18.56 5.44l.94 2.06.94-2.06 2.06-.94-2.06-.94-.94-2.06-.94 2.06-2.06.94zm-11 1L8.5 8.5l.94-2.06 2.06-.94-2.06-.94L8.5 2.5l-.94 2.06-2.06.94zm10 10l.94 2.06.94-2.06 2.06-.94-2.06-.94-.94-2.06-.94 2.06-2.06.94z\"/><path d=\"M17.41 7.96l-1.37-1.37c-.4-.4-.92-.59-1.43-.59-.52 0-1.04.2-1.43.59L10.3 9.45l-7.72 7.72c-.78.78-.78 2.05 0 2.83L4 21.41c.39.39.9.59 1.41.59.51 0 1.02-.2 1.41-.59l7.78-7.78 2.81-2.81c.8-.78.8-2.07 0-2.86zM5.41 20L4 18.59l7.72-7.72 1.47 1.35L5.41 20z\"/>\n",
              "  </svg>\n",
              "      </button>\n",
              "      \n",
              "  <style>\n",
              "    .colab-df-container {\n",
              "      display:flex;\n",
              "      flex-wrap:wrap;\n",
              "      gap: 12px;\n",
              "    }\n",
              "\n",
              "    .colab-df-convert {\n",
              "      background-color: #E8F0FE;\n",
              "      border: none;\n",
              "      border-radius: 50%;\n",
              "      cursor: pointer;\n",
              "      display: none;\n",
              "      fill: #1967D2;\n",
              "      height: 32px;\n",
              "      padding: 0 0 0 0;\n",
              "      width: 32px;\n",
              "    }\n",
              "\n",
              "    .colab-df-convert:hover {\n",
              "      background-color: #E2EBFA;\n",
              "      box-shadow: 0px 1px 2px rgba(60, 64, 67, 0.3), 0px 1px 3px 1px rgba(60, 64, 67, 0.15);\n",
              "      fill: #174EA6;\n",
              "    }\n",
              "\n",
              "    [theme=dark] .colab-df-convert {\n",
              "      background-color: #3B4455;\n",
              "      fill: #D2E3FC;\n",
              "    }\n",
              "\n",
              "    [theme=dark] .colab-df-convert:hover {\n",
              "      background-color: #434B5C;\n",
              "      box-shadow: 0px 1px 3px 1px rgba(0, 0, 0, 0.15);\n",
              "      filter: drop-shadow(0px 1px 2px rgba(0, 0, 0, 0.3));\n",
              "      fill: #FFFFFF;\n",
              "    }\n",
              "  </style>\n",
              "\n",
              "      <script>\n",
              "        const buttonEl =\n",
              "          document.querySelector('#df-df414c1c-6b53-41f5-91c9-6ea901c7ac7d button.colab-df-convert');\n",
              "        buttonEl.style.display =\n",
              "          google.colab.kernel.accessAllowed ? 'block' : 'none';\n",
              "\n",
              "        async function convertToInteractive(key) {\n",
              "          const element = document.querySelector('#df-df414c1c-6b53-41f5-91c9-6ea901c7ac7d');\n",
              "          const dataTable =\n",
              "            await google.colab.kernel.invokeFunction('convertToInteractive',\n",
              "                                                     [key], {});\n",
              "          if (!dataTable) return;\n",
              "\n",
              "          const docLinkHtml = 'Like what you see? Visit the ' +\n",
              "            '<a target=\"_blank\" href=https://colab.research.google.com/notebooks/data_table.ipynb>data table notebook</a>'\n",
              "            + ' to learn more about interactive tables.';\n",
              "          element.innerHTML = '';\n",
              "          dataTable['output_type'] = 'display_data';\n",
              "          await google.colab.output.renderOutput(dataTable, element);\n",
              "          const docLink = document.createElement('div');\n",
              "          docLink.innerHTML = docLinkHtml;\n",
              "          element.appendChild(docLink);\n",
              "        }\n",
              "      </script>\n",
              "    </div>\n",
              "  </div>\n",
              "  "
            ]
          },
          "metadata": {},
          "execution_count": 43
        }
      ]
    },
    {
      "cell_type": "markdown",
      "source": [
        "Following the standard taught in classroom: \n",
        "1. 5 variables found to have medium collinearity (>3): indus, nox, dis, rad, tax"
      ],
      "metadata": {
        "id": "E7ylDQJEZaYE"
      }
    },
    {
      "cell_type": "markdown",
      "source": [
        "## Correlation Heatmap Check"
      ],
      "metadata": {
        "id": "Zv3tkpXLt3xT"
      }
    },
    {
      "cell_type": "markdown",
      "source": [
        "We will decide which variables to drop using corr heatmap with the following decision standard: \n",
        "* when the corr is > 0.8 then we will drop one of the variable"
      ],
      "metadata": {
        "id": "OEE1mCECTyFX"
      }
    },
    {
      "cell_type": "code",
      "source": [
        "# heatmap correlation\n",
        "df_train = pd.concat([feature_df_train, target_df_train], axis=1)\n",
        "corr = df_train.corr()\n",
        "mask = np.triu(np.ones_like(corr, dtype=bool))\n",
        "\n",
        "plt.figure(figsize=(10,7))\n",
        "sns.heatmap(corr, annot=True, fmt='.2f', mask = mask, square=True)\n",
        "plt.show()"
      ],
      "metadata": {
        "colab": {
          "base_uri": "https://localhost:8080/",
          "height": 452
        },
        "id": "6UN2o7tVZKDz",
        "outputId": "658b817c-8ff6-44f8-807b-fded35f52724"
      },
      "execution_count": null,
      "outputs": [
        {
          "output_type": "display_data",
          "data": {
            "text/plain": [
              "<Figure size 720x504 with 2 Axes>"
            ],
            "image/png": "[encoded data removed]"
          },
          "metadata": {
            "needs_background": "light"
          }
        }
      ]
    },
    {
      "cell_type": "markdown",
      "source": [
        "from heatmap correlation map, identify variables with absolute correlation larger than 0.8\n",
        "1. tax & rad are highly correlated with r value of -> 0.91, we need to only pick 1 and drop the other\n",
        "\n",
        "other variables are below the 0.8 standard so we keep them as is\n",
        "\n",
        "decision: since tax has higher correlation with target variable (medv) compared to rad, hence we choose to keep tax and drop rad"
      ],
      "metadata": {
        "id": "eMMlOTxJajoh"
      }
    },
    {
      "cell_type": "markdown",
      "source": [
        "We choose to retain `tax`. Therefore, we need to drop:\n",
        "* `rad`"
      ],
      "metadata": {
        "id": "Y778Y2N9bt9a"
      }
    },
    {
      "cell_type": "code",
      "source": [
        "# drop redundant features\n",
        "feature_df_train = feature_df_train.drop(columns=['rad'])\n",
        "feature_df_test = feature_df_test.drop(columns=['rad'])\n",
        "feature_df_validation = feature_df_validation.drop(columns=['rad'])"
      ],
      "metadata": {
        "id": "boty7M8KZ2q7"
      },
      "execution_count": null,
      "outputs": []
    },
    {
      "cell_type": "markdown",
      "source": [
        "## Recheck VIF"
      ],
      "metadata": {
        "id": "zO-TGwOTb-dM"
      }
    },
    {
      "cell_type": "code",
      "source": [
        "# re-calculate VIF scores\n",
        "from statsmodels.stats.outliers_influence import variance_inflation_factor as vif \n",
        "from statsmodels.tools.tools import add_constant\n",
        "\n",
        "X = add_constant(feature_df_train)\n",
        "\n",
        "vif_df = pd.DataFrame([vif(X.values, i) \n",
        "               for i in range(X.shape[1])], \n",
        "              index=X.columns).reset_index()\n",
        "vif_df.columns = ['feature','vif_score']\n",
        "vif_df = vif_df.loc[vif_df.feature!='const']\n",
        "vif_df"
      ],
      "metadata": {
        "colab": {
          "base_uri": "https://localhost:8080/",
          "height": 425
        },
        "id": "MBb9Jk2BbpbQ",
        "outputId": "d35bcd82-9419-4678-b2f2-4c6623b513d4"
      },
      "execution_count": null,
      "outputs": [
        {
          "output_type": "execute_result",
          "data": {
            "text/plain": [
              "    feature  vif_score\n",
              "1      crim   1.615076\n",
              "2        zn   2.415036\n",
              "3     indus   3.500250\n",
              "4      chas   1.097962\n",
              "5       nox   4.552308\n",
              "6        rm   1.923266\n",
              "7       age   3.119817\n",
              "8       dis   4.390362\n",
              "9       tax   3.191363\n",
              "10  ptratio   1.804558\n",
              "11    black   1.358971\n",
              "12    lstat   3.004498"
            ],
            "text/html": [
              "\n",
              "  <div id=\"df-0a2bd649-abfa-4ab7-b318-b2ea8accf551\">\n",
              "    <div class=\"colab-df-container\">\n",
              "      <div>\n",
              "<style scoped>\n",
              "    .dataframe tbody tr th:only-of-type {\n",
              "        vertical-align: middle;\n",
              "    }\n",
              "\n",
              "    .dataframe tbody tr th {\n",
              "        vertical-align: top;\n",
              "    }\n",
              "\n",
              "    .dataframe thead th {\n",
              "        text-align: right;\n",
              "    }\n",
              "</style>\n",
              "<table border=\"1\" class=\"dataframe\">\n",
              "  <thead>\n",
              "    <tr style=\"text-align: right;\">\n",
              "      <th></th>\n",
              "      <th>feature</th>\n",
              "      <th>vif_score</th>\n",
              "    </tr>\n",
              "  </thead>\n",
              "  <tbody>\n",
              "    <tr>\n",
              "      <th>1</th>\n",
              "      <td>crim</td>\n",
              "      <td>1.615076</td>\n",
              "    </tr>\n",
              "    <tr>\n",
              "      <th>2</th>\n",
              "      <td>zn</td>\n",
              "      <td>2.415036</td>\n",
              "    </tr>\n",
              "    <tr>\n",
              "      <th>3</th>\n",
              "      <td>indus</td>\n",
              "      <td>3.500250</td>\n",
              "    </tr>\n",
              "    <tr>\n",
              "      <th>4</th>\n",
              "      <td>chas</td>\n",
              "      <td>1.097962</td>\n",
              "    </tr>\n",
              "    <tr>\n",
              "      <th>5</th>\n",
              "      <td>nox</td>\n",
              "      <td>4.552308</td>\n",
              "    </tr>\n",
              "    <tr>\n",
              "      <th>6</th>\n",
              "      <td>rm</td>\n",
              "      <td>1.923266</td>\n",
              "    </tr>\n",
              "    <tr>\n",
              "      <th>7</th>\n",
              "      <td>age</td>\n",
              "      <td>3.119817</td>\n",
              "    </tr>\n",
              "    <tr>\n",
              "      <th>8</th>\n",
              "      <td>dis</td>\n",
              "      <td>4.390362</td>\n",
              "    </tr>\n",
              "    <tr>\n",
              "      <th>9</th>\n",
              "      <td>tax</td>\n",
              "      <td>3.191363</td>\n",
              "    </tr>\n",
              "    <tr>\n",
              "      <th>10</th>\n",
              "      <td>ptratio</td>\n",
              "      <td>1.804558</td>\n",
              "    </tr>\n",
              "    <tr>\n",
              "      <th>11</th>\n",
              "      <td>black</td>\n",
              "      <td>1.358971</td>\n",
              "    </tr>\n",
              "    <tr>\n",
              "      <th>12</th>\n",
              "      <td>lstat</td>\n",
              "      <td>3.004498</td>\n",
              "    </tr>\n",
              "  </tbody>\n",
              "</table>\n",
              "</div>\n",
              "      <button class=\"colab-df-convert\" onclick=\"convertToInteractive('df-0a2bd649-abfa-4ab7-b318-b2ea8accf551')\"\n",
              "              title=\"Convert this dataframe to an interactive table.\"\n",
              "              style=\"display:none;\">\n",
              "        \n",
              "  <svg xmlns=\"http://www.w3.org/2000/svg\" height=\"24px\"viewBox=\"0 0 24 24\"\n",
              "       width=\"24px\">\n",
              "    <path d=\"M0 0h24v24H0V0z\" fill=\"none\"/>\n",
              "    <path d=\"M18.56 5.44l.94 2.06.94-2.06 2.06-.94-2.06-.94-.94-2.06-.94 2.06-2.06.94zm-11 1L8.5 8.5l.94-2.06 2.06-.94-2.06-.94L8.5 2.5l-.94 2.06-2.06.94zm10 10l.94 2.06.94-2.06 2.06-.94-2.06-.94-.94-2.06-.94 2.06-2.06.94z\"/><path d=\"M17.41 7.96l-1.37-1.37c-.4-.4-.92-.59-1.43-.59-.52 0-1.04.2-1.43.59L10.3 9.45l-7.72 7.72c-.78.78-.78 2.05 0 2.83L4 21.41c.39.39.9.59 1.41.59.51 0 1.02-.2 1.41-.59l7.78-7.78 2.81-2.81c.8-.78.8-2.07 0-2.86zM5.41 20L4 18.59l7.72-7.72 1.47 1.35L5.41 20z\"/>\n",
              "  </svg>\n",
              "      </button>\n",
              "      \n",
              "  <style>\n",
              "    .colab-df-container {\n",
              "      display:flex;\n",
              "      flex-wrap:wrap;\n",
              "      gap: 12px;\n",
              "    }\n",
              "\n",
              "    .colab-df-convert {\n",
              "      background-color: #E8F0FE;\n",
              "      border: none;\n",
              "      border-radius: 50%;\n",
              "      cursor: pointer;\n",
              "      display: none;\n",
              "      fill: #1967D2;\n",
              "      height: 32px;\n",
              "      padding: 0 0 0 0;\n",
              "      width: 32px;\n",
              "    }\n",
              "\n",
              "    .colab-df-convert:hover {\n",
              "      background-color: #E2EBFA;\n",
              "      box-shadow: 0px 1px 2px rgba(60, 64, 67, 0.3), 0px 1px 3px 1px rgba(60, 64, 67, 0.15);\n",
              "      fill: #174EA6;\n",
              "    }\n",
              "\n",
              "    [theme=dark] .colab-df-convert {\n",
              "      background-color: #3B4455;\n",
              "      fill: #D2E3FC;\n",
              "    }\n",
              "\n",
              "    [theme=dark] .colab-df-convert:hover {\n",
              "      background-color: #434B5C;\n",
              "      box-shadow: 0px 1px 3px 1px rgba(0, 0, 0, 0.15);\n",
              "      filter: drop-shadow(0px 1px 2px rgba(0, 0, 0, 0.3));\n",
              "      fill: #FFFFFF;\n",
              "    }\n",
              "  </style>\n",
              "\n",
              "      <script>\n",
              "        const buttonEl =\n",
              "          document.querySelector('#df-0a2bd649-abfa-4ab7-b318-b2ea8accf551 button.colab-df-convert');\n",
              "        buttonEl.style.display =\n",
              "          google.colab.kernel.accessAllowed ? 'block' : 'none';\n",
              "\n",
              "        async function convertToInteractive(key) {\n",
              "          const element = document.querySelector('#df-0a2bd649-abfa-4ab7-b318-b2ea8accf551');\n",
              "          const dataTable =\n",
              "            await google.colab.kernel.invokeFunction('convertToInteractive',\n",
              "                                                     [key], {});\n",
              "          if (!dataTable) return;\n",
              "\n",
              "          const docLinkHtml = 'Like what you see? Visit the ' +\n",
              "            '<a target=\"_blank\" href=https://colab.research.google.com/notebooks/data_table.ipynb>data table notebook</a>'\n",
              "            + ' to learn more about interactive tables.';\n",
              "          element.innerHTML = '';\n",
              "          dataTable['output_type'] = 'display_data';\n",
              "          await google.colab.output.renderOutput(dataTable, element);\n",
              "          const docLink = document.createElement('div');\n",
              "          docLink.innerHTML = docLinkHtml;\n",
              "          element.appendChild(docLink);\n",
              "        }\n",
              "      </script>\n",
              "    </div>\n",
              "  </div>\n",
              "  "
            ]
          },
          "metadata": {},
          "execution_count": 46
        }
      ]
    },
    {
      "cell_type": "markdown",
      "source": [
        "Results is better no VIF higher than 7 now, and since there is no variables with correlation higher than 0.8 we will not drop any more variable"
      ],
      "metadata": {
        "id": "9QUyN9UdcMPQ"
      }
    },
    {
      "cell_type": "markdown",
      "source": [
        "# Model Training\n"
      ],
      "metadata": {
        "id": "AvJVdyBKcK_N"
      }
    },
    {
      "cell_type": "markdown",
      "source": [
        "## Ridge"
      ],
      "metadata": {
        "id": "x1TqdORlcU4o"
      }
    },
    {
      "cell_type": "code",
      "source": [
        "from sklearn.linear_model import Ridge\n",
        "\n",
        "# train the model\n",
        "X_df_train = feature_df_train.to_numpy()\n",
        "y_df_train = target_df_train.to_numpy()\n",
        "y_df_train = y_df_train.reshape(len(y_df_train),)\n",
        "\n",
        "# define the model\n",
        "ridge_reg_pointzeroone = Ridge(alpha=0.01, random_state=42)\n",
        "ridge_reg_pointone = Ridge(alpha=0.1, random_state=42)\n",
        "ridge_reg_one = Ridge(alpha=1, random_state=42)\n",
        "ridge_reg_ten = Ridge(alpha=10, random_state=42)\n",
        "\n",
        "# fit the model (training)\n",
        "ridge_reg_pointzeroone.fit(X_df_train, y_df_train)\n",
        "ridge_reg_pointone.fit(X_df_train, y_df_train)\n",
        "ridge_reg_one.fit(X_df_train, y_df_train)\n",
        "ridge_reg_ten.fit(X_df_train, y_df_train)"
      ],
      "metadata": {
        "colab": {
          "base_uri": "https://localhost:8080/"
        },
        "id": "CKADIqHdcCXy",
        "outputId": "a89869a8-5afe-4ffc-ae9e-60c4c93d214c"
      },
      "execution_count": null,
      "outputs": [
        {
          "output_type": "execute_result",
          "data": {
            "text/plain": [
              "Ridge(alpha=10, random_state=42)"
            ]
          },
          "metadata": {},
          "execution_count": 47
        }
      ]
    },
    {
      "cell_type": "markdown",
      "source": [
        "### Choose Best Model using RMSE"
      ],
      "metadata": {
        "id": "zi8j6WDirYh2"
      }
    },
    {
      "cell_type": "code",
      "source": [
        "from sklearn.metrics import mean_squared_error\n",
        "\n",
        "X_df_validation = feature_df_validation.to_numpy()\n",
        "y_df_validation = target_df_validation.to_numpy()\n",
        "y_df_validation = y_df_validation.reshape(len(y_df_validation),)\n",
        "\n",
        "alphas = [0.01, 0.1, 1., 10]\n",
        "models = [ridge_reg_pointzeroone,\n",
        "          ridge_reg_pointone,\n",
        "          ridge_reg_one,\n",
        "          ridge_reg_ten]\n",
        "\n",
        "for model, alpha in zip(models, alphas):\n",
        "    y_predict_validation = model.predict(X_df_validation)\n",
        "    rmse = np.sqrt(mean_squared_error(y_df_validation,y_predict_validation))\n",
        "    print('RMSE of Ridge regression model with alpha = {:.3f} is {:.3f}'.format(alpha, rmse))"
      ],
      "metadata": {
        "colab": {
          "base_uri": "https://localhost:8080/"
        },
        "id": "K3obVPTqdzDk",
        "outputId": "6b0e10ad-3be6-418d-c582-9a1da77db102"
      },
      "execution_count": null,
      "outputs": [
        {
          "output_type": "stream",
          "name": "stdout",
          "text": [
            "RMSE of Ridge regression model with alpha = 0.010 is 4.961\n",
            "RMSE of Ridge regression model with alpha = 0.100 is 4.949\n",
            "RMSE of Ridge regression model with alpha = 1.000 is 4.912\n",
            "RMSE of Ridge regression model with alpha = 10.000 is 4.872\n"
          ]
        }
      ]
    },
    {
      "cell_type": "markdown",
      "source": [
        "Best model for Ridge regression is when alpha = 10.000, with lowest RMSE as the metrics of evaluation"
      ],
      "metadata": {
        "id": "jHDQ474misB8"
      }
    },
    {
      "cell_type": "markdown",
      "source": [
        "### Coefficient for Best Model"
      ],
      "metadata": {
        "id": "az5WQkoVrjzl"
      }
    },
    {
      "cell_type": "markdown",
      "source": [
        "We now look at the coefficient of the model with best lambda"
      ],
      "metadata": {
        "id": "D9i3pkrxi4HK"
      }
    },
    {
      "cell_type": "code",
      "source": [
        "# retrieve the coefficients\n",
        "# show as a nice dataframe\n",
        "\n",
        "data = feature_df_train\n",
        "model = ridge_reg_ten\n",
        "\n",
        "coef_df = pd.DataFrame({\n",
        "    'feature':['intercept'] + data.columns.tolist(),\n",
        "    'coefficient':[model.intercept_] + list(model.coef_)\n",
        "})\n",
        "\n",
        "coef_df"
      ],
      "metadata": {
        "colab": {
          "base_uri": "https://localhost:8080/",
          "height": 457
        },
        "id": "krYs-WSgf9Nd",
        "outputId": "67a9b1fd-355b-430d-d4c7-8c4facae3e03"
      },
      "execution_count": null,
      "outputs": [
        {
          "output_type": "execute_result",
          "data": {
            "text/plain": [
              "      feature  coefficient\n",
              "0   intercept    15.064666\n",
              "1        crim    -0.071408\n",
              "2          zn     0.033030\n",
              "3       indus    -0.067858\n",
              "4        chas     1.955801\n",
              "5         nox    -1.568248\n",
              "6          rm     4.783168\n",
              "7         age    -0.011523\n",
              "8         dis    -1.260056\n",
              "9         tax    -0.001976\n",
              "10    ptratio    -0.697550\n",
              "11      black     0.012729\n",
              "12      lstat    -0.523827"
            ],
            "text/html": [
              "\n",
              "  <div id=\"df-7dee9b8e-3f95-4c01-90d6-ff432a1e0f9a\">\n",
              "    <div class=\"colab-df-container\">\n",
              "      <div>\n",
              "<style scoped>\n",
              "    .dataframe tbody tr th:only-of-type {\n",
              "        vertical-align: middle;\n",
              "    }\n",
              "\n",
              "    .dataframe tbody tr th {\n",
              "        vertical-align: top;\n",
              "    }\n",
              "\n",
              "    .dataframe thead th {\n",
              "        text-align: right;\n",
              "    }\n",
              "</style>\n",
              "<table border=\"1\" class=\"dataframe\">\n",
              "  <thead>\n",
              "    <tr style=\"text-align: right;\">\n",
              "      <th></th>\n",
              "      <th>feature</th>\n",
              "      <th>coefficient</th>\n",
              "    </tr>\n",
              "  </thead>\n",
              "  <tbody>\n",
              "    <tr>\n",
              "      <th>0</th>\n",
              "      <td>intercept</td>\n",
              "      <td>15.064666</td>\n",
              "    </tr>\n",
              "    <tr>\n",
              "      <th>1</th>\n",
              "      <td>crim</td>\n",
              "      <td>-0.071408</td>\n",
              "    </tr>\n",
              "    <tr>\n",
              "      <th>2</th>\n",
              "      <td>zn</td>\n",
              "      <td>0.033030</td>\n",
              "    </tr>\n",
              "    <tr>\n",
              "      <th>3</th>\n",
              "      <td>indus</td>\n",
              "      <td>-0.067858</td>\n",
              "    </tr>\n",
              "    <tr>\n",
              "      <th>4</th>\n",
              "      <td>chas</td>\n",
              "      <td>1.955801</td>\n",
              "    </tr>\n",
              "    <tr>\n",
              "      <th>5</th>\n",
              "      <td>nox</td>\n",
              "      <td>-1.568248</td>\n",
              "    </tr>\n",
              "    <tr>\n",
              "      <th>6</th>\n",
              "      <td>rm</td>\n",
              "      <td>4.783168</td>\n",
              "    </tr>\n",
              "    <tr>\n",
              "      <th>7</th>\n",
              "      <td>age</td>\n",
              "      <td>-0.011523</td>\n",
              "    </tr>\n",
              "    <tr>\n",
              "      <th>8</th>\n",
              "      <td>dis</td>\n",
              "      <td>-1.260056</td>\n",
              "    </tr>\n",
              "    <tr>\n",
              "      <th>9</th>\n",
              "      <td>tax</td>\n",
              "      <td>-0.001976</td>\n",
              "    </tr>\n",
              "    <tr>\n",
              "      <th>10</th>\n",
              "      <td>ptratio</td>\n",
              "      <td>-0.697550</td>\n",
              "    </tr>\n",
              "    <tr>\n",
              "      <th>11</th>\n",
              "      <td>black</td>\n",
              "      <td>0.012729</td>\n",
              "    </tr>\n",
              "    <tr>\n",
              "      <th>12</th>\n",
              "      <td>lstat</td>\n",
              "      <td>-0.523827</td>\n",
              "    </tr>\n",
              "  </tbody>\n",
              "</table>\n",
              "</div>\n",
              "      <button class=\"colab-df-convert\" onclick=\"convertToInteractive('df-7dee9b8e-3f95-4c01-90d6-ff432a1e0f9a')\"\n",
              "              title=\"Convert this dataframe to an interactive table.\"\n",
              "              style=\"display:none;\">\n",
              "        \n",
              "  <svg xmlns=\"http://www.w3.org/2000/svg\" height=\"24px\"viewBox=\"0 0 24 24\"\n",
              "       width=\"24px\">\n",
              "    <path d=\"M0 0h24v24H0V0z\" fill=\"none\"/>\n",
              "    <path d=\"M18.56 5.44l.94 2.06.94-2.06 2.06-.94-2.06-.94-.94-2.06-.94 2.06-2.06.94zm-11 1L8.5 8.5l.94-2.06 2.06-.94-2.06-.94L8.5 2.5l-.94 2.06-2.06.94zm10 10l.94 2.06.94-2.06 2.06-.94-2.06-.94-.94-2.06-.94 2.06-2.06.94z\"/><path d=\"M17.41 7.96l-1.37-1.37c-.4-.4-.92-.59-1.43-.59-.52 0-1.04.2-1.43.59L10.3 9.45l-7.72 7.72c-.78.78-.78 2.05 0 2.83L4 21.41c.39.39.9.59 1.41.59.51 0 1.02-.2 1.41-.59l7.78-7.78 2.81-2.81c.8-.78.8-2.07 0-2.86zM5.41 20L4 18.59l7.72-7.72 1.47 1.35L5.41 20z\"/>\n",
              "  </svg>\n",
              "      </button>\n",
              "      \n",
              "  <style>\n",
              "    .colab-df-container {\n",
              "      display:flex;\n",
              "      flex-wrap:wrap;\n",
              "      gap: 12px;\n",
              "    }\n",
              "\n",
              "    .colab-df-convert {\n",
              "      background-color: #E8F0FE;\n",
              "      border: none;\n",
              "      border-radius: 50%;\n",
              "      cursor: pointer;\n",
              "      display: none;\n",
              "      fill: #1967D2;\n",
              "      height: 32px;\n",
              "      padding: 0 0 0 0;\n",
              "      width: 32px;\n",
              "    }\n",
              "\n",
              "    .colab-df-convert:hover {\n",
              "      background-color: #E2EBFA;\n",
              "      box-shadow: 0px 1px 2px rgba(60, 64, 67, 0.3), 0px 1px 3px 1px rgba(60, 64, 67, 0.15);\n",
              "      fill: #174EA6;\n",
              "    }\n",
              "\n",
              "    [theme=dark] .colab-df-convert {\n",
              "      background-color: #3B4455;\n",
              "      fill: #D2E3FC;\n",
              "    }\n",
              "\n",
              "    [theme=dark] .colab-df-convert:hover {\n",
              "      background-color: #434B5C;\n",
              "      box-shadow: 0px 1px 3px 1px rgba(0, 0, 0, 0.15);\n",
              "      filter: drop-shadow(0px 1px 2px rgba(0, 0, 0, 0.3));\n",
              "      fill: #FFFFFF;\n",
              "    }\n",
              "  </style>\n",
              "\n",
              "      <script>\n",
              "        const buttonEl =\n",
              "          document.querySelector('#df-7dee9b8e-3f95-4c01-90d6-ff432a1e0f9a button.colab-df-convert');\n",
              "        buttonEl.style.display =\n",
              "          google.colab.kernel.accessAllowed ? 'block' : 'none';\n",
              "\n",
              "        async function convertToInteractive(key) {\n",
              "          const element = document.querySelector('#df-7dee9b8e-3f95-4c01-90d6-ff432a1e0f9a');\n",
              "          const dataTable =\n",
              "            await google.colab.kernel.invokeFunction('convertToInteractive',\n",
              "                                                     [key], {});\n",
              "          if (!dataTable) return;\n",
              "\n",
              "          const docLinkHtml = 'Like what you see? Visit the ' +\n",
              "            '<a target=\"_blank\" href=https://colab.research.google.com/notebooks/data_table.ipynb>data table notebook</a>'\n",
              "            + ' to learn more about interactive tables.';\n",
              "          element.innerHTML = '';\n",
              "          dataTable['output_type'] = 'display_data';\n",
              "          await google.colab.output.renderOutput(dataTable, element);\n",
              "          const docLink = document.createElement('div');\n",
              "          docLink.innerHTML = docLinkHtml;\n",
              "          element.appendChild(docLink);\n",
              "        }\n",
              "      </script>\n",
              "    </div>\n",
              "  </div>\n",
              "  "
            ]
          },
          "metadata": {},
          "execution_count": 55
        }
      ]
    },
    {
      "cell_type": "markdown",
      "source": [
        "### Interpretation for Best Model"
      ],
      "metadata": {
        "id": "wjDF0xK4ro8i"
      }
    },
    {
      "cell_type": "markdown",
      "source": [
        "```\n",
        "medv = 15.064666 \n",
        "- 0.071408 * crim + 0.033030 * zn -0.067858 * indus \n",
        "+ 1.955801 * chas - 1.568248 * nox + 4.783168 * rm \n",
        "- 0.011523 * age - 1.260056 * dis - 0.001976 * tax \n",
        "- 0.697550 *pratio + 0.012729 * black - 0.523827 * lstat\n",
        "```"
      ],
      "metadata": {
        "id": "UsIW_JKWl-op"
      }
    },
    {
      "cell_type": "markdown",
      "source": [
        "* For every 1 point `increase` in variable `rm` - average number of room per dwelling, (assuming other variables do not change), it has an association with an `increase` of 4.783168 point in median value `medv` (in USD 1000's). \n",
        "* For every 1 point `increase` in variable `pratio` - pupil teacher ratio in the neighborhood, assuming other variables do not change, it has an association with a `decrease` of 0.697550 point in median value `medv` (in USD 1000's)"
      ],
      "metadata": {
        "id": "G_Wld5abrrMJ"
      }
    },
    {
      "cell_type": "markdown",
      "source": [
        "## Lasso"
      ],
      "metadata": {
        "id": "LmaSYqzbczyY"
      }
    },
    {
      "cell_type": "code",
      "source": [
        "from sklearn.linear_model import Lasso\n",
        "\n",
        "# train the model\n",
        "X_df_train = feature_df_train.to_numpy()\n",
        "y_df_train = target_df_train.to_numpy()\n",
        "y_df_train = y_df_train.reshape(len(y_df_train),)\n",
        "\n",
        "# define the model\n",
        "lasso_reg_pointzeroone = Lasso(alpha=0.01, random_state=42)\n",
        "lasso_reg_pointone = Lasso(alpha=0.1, random_state=42)\n",
        "lasso_reg_one = Lasso(alpha=1, random_state=42)\n",
        "lasso_reg_ten = Lasso(alpha=10, random_state=42)\n",
        "\n",
        "# fit the model (training)\n",
        "lasso_reg_pointzeroone.fit(X_df_train, y_df_train)\n",
        "lasso_reg_pointone.fit(X_df_train, y_df_train)\n",
        "lasso_reg_one.fit(X_df_train, y_df_train)\n",
        "lasso_reg_ten.fit(X_df_train, y_df_train)"
      ],
      "metadata": {
        "colab": {
          "base_uri": "https://localhost:8080/"
        },
        "id": "kuDocWRrcxM4",
        "outputId": "9fa51114-bb3d-410c-9320-a37d6e59b9e3"
      },
      "execution_count": null,
      "outputs": [
        {
          "output_type": "execute_result",
          "data": {
            "text/plain": [
              "Lasso(alpha=10, random_state=42)"
            ]
          },
          "metadata": {},
          "execution_count": 33
        }
      ]
    },
    {
      "cell_type": "markdown",
      "source": [
        "### Choose Best Model using RMSE"
      ],
      "metadata": {
        "id": "Xi6l6P2rtK0H"
      }
    },
    {
      "cell_type": "code",
      "source": [
        "from sklearn.metrics import mean_squared_error\n",
        "\n",
        "X_df_validation = feature_df_validation.to_numpy()\n",
        "y_df_validation = target_df_validation.to_numpy()\n",
        "y_df_validation = y_df_validation.reshape(len(y_df_validation),)\n",
        "\n",
        "alphas = [0.01, 0.1, 1., 10]\n",
        "models = [lasso_reg_pointzeroone,\n",
        "          lasso_reg_pointone,\n",
        "          lasso_reg_one,\n",
        "          lasso_reg_ten]\n",
        "\n",
        "for model, alpha in zip(models, alphas):\n",
        "    y_predict_validation = model.predict(X_df_validation)\n",
        "    rmse = np.sqrt(mean_squared_error(y_df_validation,y_predict_validation))\n",
        "    print('RMSE of Lasso regression model with alpha = {:.3f} is {:.3f}'.format(alpha, rmse))"
      ],
      "metadata": {
        "colab": {
          "base_uri": "https://localhost:8080/"
        },
        "id": "fwwwJY7sgjE0",
        "outputId": "36752dc9-4f81-4a30-c017-d9fd2c2aa6f6"
      },
      "execution_count": null,
      "outputs": [
        {
          "output_type": "stream",
          "name": "stdout",
          "text": [
            "RMSE of Lasso regression model with alpha = 0.010 is 4.816\n",
            "RMSE of Lasso regression model with alpha = 0.100 is 4.812\n",
            "RMSE of Lasso regression model with alpha = 1.000 is 4.795\n",
            "RMSE of Lasso regression model with alpha = 10.000 is 5.434\n"
          ]
        }
      ]
    },
    {
      "cell_type": "markdown",
      "source": [
        "Best model for Lasso regression is when alpha = 0.1, with lowest RMSE as the metrics of evaluation"
      ],
      "metadata": {
        "id": "SkRoAf66i8jn"
      }
    },
    {
      "cell_type": "markdown",
      "source": [
        "### Coefficient for Best Model "
      ],
      "metadata": {
        "id": "bDFC3QbqtN-_"
      }
    },
    {
      "cell_type": "markdown",
      "source": [
        "We now look at the coefficient for the model with best lambda"
      ],
      "metadata": {
        "id": "UFnDOtrAjEMV"
      }
    },
    {
      "cell_type": "code",
      "source": [
        "# retrieve the coefficients\n",
        "# show as a nice dataframe\n",
        "\n",
        "data = feature_df_train\n",
        "model = lasso_reg_pointone\n",
        "\n",
        "coef_df = pd.DataFrame({\n",
        "    'feature':['intercept'] + data.columns.tolist(),\n",
        "    'coefficient':[model.intercept_] + list(model.coef_)\n",
        "})\n",
        "\n",
        "coef_df"
      ],
      "metadata": {
        "colab": {
          "base_uri": "https://localhost:8080/",
          "height": 457
        },
        "id": "qMwdtAHvc3IJ",
        "outputId": "bdb9aad7-1022-46b6-a6de-be6f2a66861f"
      },
      "execution_count": null,
      "outputs": [
        {
          "output_type": "execute_result",
          "data": {
            "text/plain": [
              "      feature  coefficient\n",
              "0   intercept    15.425577\n",
              "1        crim    -0.075710\n",
              "2          zn     0.027093\n",
              "3       indus    -0.061336\n",
              "4        chas     1.266833\n",
              "5         nox    -0.000000\n",
              "6          rm     4.564419\n",
              "7         age    -0.016919\n",
              "8         dis    -1.155550\n",
              "9         tax    -0.002088\n",
              "10    ptratio    -0.657651\n",
              "11      black     0.012361\n",
              "12      lstat    -0.551271"
            ],
            "text/html": [
              "\n",
              "  <div id=\"df-6271fab6-6e98-451b-8e01-d46b409171f1\">\n",
              "    <div class=\"colab-df-container\">\n",
              "      <div>\n",
              "<style scoped>\n",
              "    .dataframe tbody tr th:only-of-type {\n",
              "        vertical-align: middle;\n",
              "    }\n",
              "\n",
              "    .dataframe tbody tr th {\n",
              "        vertical-align: top;\n",
              "    }\n",
              "\n",
              "    .dataframe thead th {\n",
              "        text-align: right;\n",
              "    }\n",
              "</style>\n",
              "<table border=\"1\" class=\"dataframe\">\n",
              "  <thead>\n",
              "    <tr style=\"text-align: right;\">\n",
              "      <th></th>\n",
              "      <th>feature</th>\n",
              "      <th>coefficient</th>\n",
              "    </tr>\n",
              "  </thead>\n",
              "  <tbody>\n",
              "    <tr>\n",
              "      <th>0</th>\n",
              "      <td>intercept</td>\n",
              "      <td>15.425577</td>\n",
              "    </tr>\n",
              "    <tr>\n",
              "      <th>1</th>\n",
              "      <td>crim</td>\n",
              "      <td>-0.075710</td>\n",
              "    </tr>\n",
              "    <tr>\n",
              "      <th>2</th>\n",
              "      <td>zn</td>\n",
              "      <td>0.027093</td>\n",
              "    </tr>\n",
              "    <tr>\n",
              "      <th>3</th>\n",
              "      <td>indus</td>\n",
              "      <td>-0.061336</td>\n",
              "    </tr>\n",
              "    <tr>\n",
              "      <th>4</th>\n",
              "      <td>chas</td>\n",
              "      <td>1.266833</td>\n",
              "    </tr>\n",
              "    <tr>\n",
              "      <th>5</th>\n",
              "      <td>nox</td>\n",
              "      <td>-0.000000</td>\n",
              "    </tr>\n",
              "    <tr>\n",
              "      <th>6</th>\n",
              "      <td>rm</td>\n",
              "      <td>4.564419</td>\n",
              "    </tr>\n",
              "    <tr>\n",
              "      <th>7</th>\n",
              "      <td>age</td>\n",
              "      <td>-0.016919</td>\n",
              "    </tr>\n",
              "    <tr>\n",
              "      <th>8</th>\n",
              "      <td>dis</td>\n",
              "      <td>-1.155550</td>\n",
              "    </tr>\n",
              "    <tr>\n",
              "      <th>9</th>\n",
              "      <td>tax</td>\n",
              "      <td>-0.002088</td>\n",
              "    </tr>\n",
              "    <tr>\n",
              "      <th>10</th>\n",
              "      <td>ptratio</td>\n",
              "      <td>-0.657651</td>\n",
              "    </tr>\n",
              "    <tr>\n",
              "      <th>11</th>\n",
              "      <td>black</td>\n",
              "      <td>0.012361</td>\n",
              "    </tr>\n",
              "    <tr>\n",
              "      <th>12</th>\n",
              "      <td>lstat</td>\n",
              "      <td>-0.551271</td>\n",
              "    </tr>\n",
              "  </tbody>\n",
              "</table>\n",
              "</div>\n",
              "      <button class=\"colab-df-convert\" onclick=\"convertToInteractive('df-6271fab6-6e98-451b-8e01-d46b409171f1')\"\n",
              "              title=\"Convert this dataframe to an interactive table.\"\n",
              "              style=\"display:none;\">\n",
              "        \n",
              "  <svg xmlns=\"http://www.w3.org/2000/svg\" height=\"24px\"viewBox=\"0 0 24 24\"\n",
              "       width=\"24px\">\n",
              "    <path d=\"M0 0h24v24H0V0z\" fill=\"none\"/>\n",
              "    <path d=\"M18.56 5.44l.94 2.06.94-2.06 2.06-.94-2.06-.94-.94-2.06-.94 2.06-2.06.94zm-11 1L8.5 8.5l.94-2.06 2.06-.94-2.06-.94L8.5 2.5l-.94 2.06-2.06.94zm10 10l.94 2.06.94-2.06 2.06-.94-2.06-.94-.94-2.06-.94 2.06-2.06.94z\"/><path d=\"M17.41 7.96l-1.37-1.37c-.4-.4-.92-.59-1.43-.59-.52 0-1.04.2-1.43.59L10.3 9.45l-7.72 7.72c-.78.78-.78 2.05 0 2.83L4 21.41c.39.39.9.59 1.41.59.51 0 1.02-.2 1.41-.59l7.78-7.78 2.81-2.81c.8-.78.8-2.07 0-2.86zM5.41 20L4 18.59l7.72-7.72 1.47 1.35L5.41 20z\"/>\n",
              "  </svg>\n",
              "      </button>\n",
              "      \n",
              "  <style>\n",
              "    .colab-df-container {\n",
              "      display:flex;\n",
              "      flex-wrap:wrap;\n",
              "      gap: 12px;\n",
              "    }\n",
              "\n",
              "    .colab-df-convert {\n",
              "      background-color: #E8F0FE;\n",
              "      border: none;\n",
              "      border-radius: 50%;\n",
              "      cursor: pointer;\n",
              "      display: none;\n",
              "      fill: #1967D2;\n",
              "      height: 32px;\n",
              "      padding: 0 0 0 0;\n",
              "      width: 32px;\n",
              "    }\n",
              "\n",
              "    .colab-df-convert:hover {\n",
              "      background-color: #E2EBFA;\n",
              "      box-shadow: 0px 1px 2px rgba(60, 64, 67, 0.3), 0px 1px 3px 1px rgba(60, 64, 67, 0.15);\n",
              "      fill: #174EA6;\n",
              "    }\n",
              "\n",
              "    [theme=dark] .colab-df-convert {\n",
              "      background-color: #3B4455;\n",
              "      fill: #D2E3FC;\n",
              "    }\n",
              "\n",
              "    [theme=dark] .colab-df-convert:hover {\n",
              "      background-color: #434B5C;\n",
              "      box-shadow: 0px 1px 3px 1px rgba(0, 0, 0, 0.15);\n",
              "      filter: drop-shadow(0px 1px 2px rgba(0, 0, 0, 0.3));\n",
              "      fill: #FFFFFF;\n",
              "    }\n",
              "  </style>\n",
              "\n",
              "      <script>\n",
              "        const buttonEl =\n",
              "          document.querySelector('#df-6271fab6-6e98-451b-8e01-d46b409171f1 button.colab-df-convert');\n",
              "        buttonEl.style.display =\n",
              "          google.colab.kernel.accessAllowed ? 'block' : 'none';\n",
              "\n",
              "        async function convertToInteractive(key) {\n",
              "          const element = document.querySelector('#df-6271fab6-6e98-451b-8e01-d46b409171f1');\n",
              "          const dataTable =\n",
              "            await google.colab.kernel.invokeFunction('convertToInteractive',\n",
              "                                                     [key], {});\n",
              "          if (!dataTable) return;\n",
              "\n",
              "          const docLinkHtml = 'Like what you see? Visit the ' +\n",
              "            '<a target=\"_blank\" href=https://colab.research.google.com/notebooks/data_table.ipynb>data table notebook</a>'\n",
              "            + ' to learn more about interactive tables.';\n",
              "          element.innerHTML = '';\n",
              "          dataTable['output_type'] = 'display_data';\n",
              "          await google.colab.output.renderOutput(dataTable, element);\n",
              "          const docLink = document.createElement('div');\n",
              "          docLink.innerHTML = docLinkHtml;\n",
              "          element.appendChild(docLink);\n",
              "        }\n",
              "      </script>\n",
              "    </div>\n",
              "  </div>\n",
              "  "
            ]
          },
          "metadata": {},
          "execution_count": 52
        }
      ]
    },
    {
      "cell_type": "markdown",
      "source": [
        "### Interpretation for Best Model"
      ],
      "metadata": {
        "id": "wiAShnCQtQ5H"
      }
    },
    {
      "cell_type": "markdown",
      "source": [
        "```\n",
        "medv = 15.425577\n",
        "- 0.075710 * crim + 0.027093 * zn - 0.061336 * indus \n",
        "+ 1.266833 * chas - 0.000000 * nox + 4.564419 * rm \n",
        "- 0.016919 * age - 1.155550 * dis - 0.002088 * tax \n",
        "- 0.657651 *pratio + 0.012361 * black - 0.551271 * lstat\n",
        "```"
      ],
      "metadata": {
        "id": "sKkP8LGPnmiY"
      }
    },
    {
      "cell_type": "markdown",
      "source": [
        "* For every 1 point `increase` in variable `rm` - average number of room per dwelling, (assuming other variables do not change), it has an association with an `increase` of 4.564419 point in median value `medv` (in USD 1000's). \n",
        "* For every 1 point `increase` in variable `pratio` - pupil teacher ratio in the neighborhood, assuming other variables do not change, it has an association with a `decrease` of 0.657651 point in median value `medv` (in USD 1000's)"
      ],
      "metadata": {
        "id": "dHAvQy7Xta8N"
      }
    },
    {
      "cell_type": "markdown",
      "source": [
        "# Model Evaluation"
      ],
      "metadata": {
        "id": "OJC1goRatoLH"
      }
    },
    {
      "cell_type": "markdown",
      "source": [
        "## Ridge Best Model Evaluation"
      ],
      "metadata": {
        "id": "e6IdMSXIuFPY"
      }
    },
    {
      "cell_type": "markdown",
      "source": [
        "### Diagnostic Study"
      ],
      "metadata": {
        "id": "EYPRmhMBvEor"
      }
    },
    {
      "cell_type": "code",
      "source": [
        "from sklearn.metrics import r2_score\n",
        "\n",
        "ridge_best = ridge_reg_ten\n",
        "\n",
        "y_predict_train = ridge_best.predict(X_df_train)\n",
        "\n",
        "print('R-squared for training data is {}'.format(r2_score(y_predict_train, y_df_train)))"
      ],
      "metadata": {
        "colab": {
          "base_uri": "https://localhost:8080/"
        },
        "id": "rcVSEP-buHrO",
        "outputId": "71eca019-87d2-4034-d2e1-3c4361f5fc78"
      },
      "execution_count": null,
      "outputs": [
        {
          "output_type": "stream",
          "name": "stdout",
          "text": [
            "R-squared for training data is 0.6542246087727177\n"
          ]
        }
      ]
    },
    {
      "cell_type": "markdown",
      "source": [
        "### Training Error"
      ],
      "metadata": {
        "id": "gAbtqKw9vGIF"
      }
    },
    {
      "cell_type": "code",
      "source": [
        "# calculate residuals\n",
        "residual = y_df_train - y_predict_train\n",
        "\n",
        "# prepare dataframe\n",
        "# 1 predictor --> predictor VS residual\n",
        "df_resid = pd.DataFrame({\n",
        "    'predicted_value': y_predict_train,\n",
        "    'residual': residual\n",
        "})\n",
        "\n",
        "# residual plot\n",
        "sns.scatterplot(data=df_resid, x=\"predicted_value\", y=\"residual\")\n",
        "plt.axhline(0)\n",
        "plt.show()"
      ],
      "metadata": {
        "colab": {
          "base_uri": "https://localhost:8080/",
          "height": 280
        },
        "id": "VMrfiUtJua7X",
        "outputId": "141ed201-0647-41a4-e05f-5f6c1e38de6f"
      },
      "execution_count": null,
      "outputs": [
        {
          "output_type": "display_data",
          "data": {
            "text/plain": [
              "<Figure size 432x288 with 1 Axes>"
            ],
            "image/png": "[encoded data removed]"
          },
          "metadata": {
            "needs_background": "light"
          }
        }
      ]
    },
    {
      "cell_type": "markdown",
      "source": [
        "\n",
        "variance of residuals seems random -> no bias in residuals"
      ],
      "metadata": {
        "id": "2Nr9PfE3UYfN"
      }
    },
    {
      "cell_type": "code",
      "source": [
        "# prepare prediction result on training data\n",
        "y_predict_train = ridge_best.predict(X_df_train)\n",
        "\n",
        "from sklearn.metrics import mean_squared_error\n",
        "from sklearn.metrics import mean_absolute_error\n",
        "from sklearn.metrics import mean_absolute_percentage_error\n",
        "\n",
        "print('RMSE for training data is {}'.format(np.sqrt(mean_squared_error(y_predict_train, y_df_train))))\n",
        "print('MAE for training data is {}'.format(mean_absolute_error(y_predict_train, y_df_train)))\n",
        "print('MAPE for training data is {}'.format(mean_absolute_percentage_error(y_predict_train, y_df_train)))"
      ],
      "metadata": {
        "colab": {
          "base_uri": "https://localhost:8080/"
        },
        "id": "PVKmFtfBuxGH",
        "outputId": "b39f7900-6409-496b-b265-32e8fee0e133"
      },
      "execution_count": null,
      "outputs": [
        {
          "output_type": "stream",
          "name": "stdout",
          "text": [
            "RMSE for training data is 4.778640361040111\n",
            "MAE for training data is 3.3776762058865626\n",
            "MAPE for training data is 0.20627342943666688\n"
          ]
        }
      ]
    },
    {
      "cell_type": "markdown",
      "source": [
        "* Standard deviation of the residuals in \n",
        "the training data, is +/- 4.778640361040111 (from `RSME`)"
      ],
      "metadata": {
        "id": "EoibLOd5RjG5"
      }
    },
    {
      "cell_type": "markdown",
      "source": [
        "### Testing Error"
      ],
      "metadata": {
        "id": "283qP9y4vIa_"
      }
    },
    {
      "cell_type": "code",
      "source": [
        "# prepare prediction result on test data\n",
        "X_df_test = feature_df_test.to_numpy()\n",
        "y_predict_test = ridge_best.predict(X_df_test)\n",
        "\n",
        "# ground truth target\n",
        "y_df_test = target_df_test.to_numpy()\n",
        "y_df_test = y_df_test.reshape(len(y_df_test),)"
      ],
      "metadata": {
        "id": "Sidgx1Aqu3YN"
      },
      "execution_count": null,
      "outputs": []
    },
    {
      "cell_type": "code",
      "source": [
        "from sklearn.metrics import r2_score\n",
        "from sklearn.metrics import mean_absolute_error\n",
        "from sklearn.metrics import mean_absolute_percentage_error\n",
        "\n",
        "print('RMSE for testing data is {}'.format(np.sqrt(mean_squared_error(y_predict_test, y_df_test))))\n",
        "print('MAE for testing data is {}'.format(mean_absolute_error(y_predict_test, y_df_test)))\n",
        "print('MAPE for testing data is {}'.format(mean_absolute_percentage_error(y_predict_test, y_df_test)))"
      ],
      "metadata": {
        "colab": {
          "base_uri": "https://localhost:8080/"
        },
        "id": "oyEdI6acu8AQ",
        "outputId": "40a99ebe-60b6-4f63-9ed1-1a1cf90ed071"
      },
      "execution_count": null,
      "outputs": [
        {
          "output_type": "stream",
          "name": "stdout",
          "text": [
            "RMSE for testing data is 5.158908333657057\n",
            "MAE for testing data is 3.2444816457044965\n",
            "MAPE for testing data is 0.2622349874986081\n"
          ]
        }
      ]
    },
    {
      "cell_type": "markdown",
      "source": [
        "* Standard deviation of the residuals in \n",
        "the testing data, is +/- 5.158908333657057 (from `RSME`)"
      ],
      "metadata": {
        "id": "CDTTMRitQ897"
      }
    },
    {
      "cell_type": "markdown",
      "source": [
        "### Interpretation for testing data"
      ],
      "metadata": {
        "id": "J4tuYYXNvauB"
      }
    },
    {
      "cell_type": "markdown",
      "source": [
        "* Based on `MAE`, on average our prediction deviates the true `medv` value by 3.244 points (in USD 1000's) - so it is quite significant because the predication can be different in thousands of dollars \n",
        "* Based on `MAPE`, this 3.244 points deviation is equivalent to 26% of deviation relative to true `medv` value. So, the model still have relatively large deviation but we will use standard of 30% to decide the model as not acceptable, so we conclude that the model still `acceptable` to predict `medv` value. "
      ],
      "metadata": {
        "id": "wU-QCao6vcr3"
      }
    },
    {
      "cell_type": "markdown",
      "source": [
        "## Lasso Best Model Evaluation"
      ],
      "metadata": {
        "id": "eUyZRqreuCbe"
      }
    },
    {
      "cell_type": "markdown",
      "source": [
        "### Diagnostic Study"
      ],
      "metadata": {
        "id": "cQBamz13vKAT"
      }
    },
    {
      "cell_type": "code",
      "source": [
        "from sklearn.metrics import r2_score\n",
        "\n",
        "lasso_best = lasso_reg_pointone\n",
        "\n",
        "y_predict_train = lasso_best.predict(X_df_train)\n",
        "\n",
        "print('R-squared for training data is {}'.format(r2_score(y_predict_train, y_df_train)))"
      ],
      "metadata": {
        "colab": {
          "base_uri": "https://localhost:8080/"
        },
        "id": "tcNQirmShTkZ",
        "outputId": "4f1ed74b-1a00-4e6d-86ba-c9afbc4b4f76"
      },
      "execution_count": null,
      "outputs": [
        {
          "output_type": "stream",
          "name": "stdout",
          "text": [
            "R-squared for training data is 0.6412320625611863\n"
          ]
        }
      ]
    },
    {
      "cell_type": "markdown",
      "source": [
        "64% of variance in the target `medv` is explained by all the feature in the model"
      ],
      "metadata": {
        "id": "oK01iH4uQlKU"
      }
    },
    {
      "cell_type": "markdown",
      "source": [
        "### Training Error"
      ],
      "metadata": {
        "id": "e6PJsaE8vL-c"
      }
    },
    {
      "cell_type": "code",
      "source": [
        "# calculate residuals\n",
        "residual = y_df_train - y_predict_train\n",
        "\n",
        "# prepare dataframe\n",
        "# 1 predictor --> predictor VS residual\n",
        "df_resid = pd.DataFrame({\n",
        "    'predicted_value': y_predict_train,\n",
        "    'residual': residual\n",
        "})\n",
        "\n",
        "# residual plot\n",
        "sns.scatterplot(data=df_resid, x=\"predicted_value\", y=\"residual\")\n",
        "plt.axhline(0)\n",
        "plt.show()"
      ],
      "metadata": {
        "colab": {
          "base_uri": "https://localhost:8080/",
          "height": 280
        },
        "id": "wUfGiMC-p0Jd",
        "outputId": "fd557038-47ba-4a37-ec7c-e210cb3c2dcf"
      },
      "execution_count": null,
      "outputs": [
        {
          "output_type": "display_data",
          "data": {
            "text/plain": [
              "<Figure size 432x288 with 1 Axes>"
            ],
            "image/png": "[encoded data removed]"
          },
          "metadata": {
            "needs_background": "light"
          }
        }
      ]
    },
    {
      "cell_type": "markdown",
      "source": [
        "variance of residuals seems random -> no bias in residuals"
      ],
      "metadata": {
        "id": "mI-4m4EGUhVD"
      }
    },
    {
      "cell_type": "markdown",
      "source": [
        "### Testing Error"
      ],
      "metadata": {
        "id": "afNzNlwavOOF"
      }
    },
    {
      "cell_type": "code",
      "source": [
        "# prepare prediction result on training data\n",
        "y_predict_train = lasso_best.predict(X_df_train)\n",
        "\n",
        "from sklearn.metrics import mean_squared_error\n",
        "from sklearn.metrics import mean_absolute_error\n",
        "from sklearn.metrics import mean_absolute_percentage_error\n",
        "\n",
        "print('RMSE for training data is {}'.format(np.sqrt(mean_squared_error(y_predict_train, y_df_train))))\n",
        "print('MAE for training data is {}'.format(mean_absolute_error(y_predict_train, y_df_train)))\n",
        "print('MAPE for training data is {}'.format(mean_absolute_percentage_error(y_predict_train, y_df_train)))"
      ],
      "metadata": {
        "colab": {
          "base_uri": "https://localhost:8080/"
        },
        "id": "lMs9Rd8AqAd7",
        "outputId": "73d2a661-6304-4851-d3bc-614c4e26c1cf"
      },
      "execution_count": null,
      "outputs": [
        {
          "output_type": "stream",
          "name": "stdout",
          "text": [
            "RMSE for training data is 4.823417811029444\n",
            "MAE for training data is 3.4075152037769376\n",
            "MAPE for training data is 0.20397936123738517\n"
          ]
        }
      ]
    },
    {
      "cell_type": "markdown",
      "source": [
        "* Standard deviation of the residuals in \n",
        "the training data, is +/- 4.823417811029444 (from `RSME`)"
      ],
      "metadata": {
        "id": "xlnerAGRRNKo"
      }
    },
    {
      "cell_type": "code",
      "source": [
        "# prepare prediction result on test data\n",
        "X_df_test = feature_df_test.to_numpy()\n",
        "y_predict_test = lasso_best.predict(X_df_test)\n",
        "\n",
        "# ground truth target\n",
        "y_df_test = target_df_test.to_numpy()\n",
        "y_df_test = y_df_test.reshape(len(y_df_test),)"
      ],
      "metadata": {
        "id": "b05tPeZxqV7D"
      },
      "execution_count": null,
      "outputs": []
    },
    {
      "cell_type": "code",
      "source": [
        "from sklearn.metrics import r2_score\n",
        "from sklearn.metrics import mean_absolute_error\n",
        "from sklearn.metrics import mean_absolute_percentage_error\n",
        "\n",
        "print('RMSE for testing data is {}'.format(np.sqrt(mean_squared_error(y_predict_test, y_df_test))))\n",
        "print('MAE for testing data is {}'.format(mean_absolute_error(y_predict_test, y_df_test)))\n",
        "print('MAPE for testing data is {}'.format(mean_absolute_percentage_error(y_predict_test, y_df_test)))"
      ],
      "metadata": {
        "colab": {
          "base_uri": "https://localhost:8080/"
        },
        "id": "CICBzVmZqoXR",
        "outputId": "f654bdc6-6cf7-44c7-c0de-88ef198804c1"
      },
      "execution_count": null,
      "outputs": [
        {
          "output_type": "stream",
          "name": "stdout",
          "text": [
            "RMSE for testing data is 5.181855076339578\n",
            "MAE for testing data is 3.271163069694891\n",
            "MAPE for testing data is 0.254586846782747\n"
          ]
        }
      ]
    },
    {
      "cell_type": "markdown",
      "source": [
        "* Standard deviation of the residuals in \n",
        "the testing data, is +/- 45.181855076339578 (from `RSME`)"
      ],
      "metadata": {
        "id": "OrF0cfdDRrVp"
      }
    },
    {
      "cell_type": "markdown",
      "source": [
        "### Interpretation for testing data"
      ],
      "metadata": {
        "id": "txYAvuOfxB5U"
      }
    },
    {
      "cell_type": "markdown",
      "source": [
        "* Based on `MAE`, on average our prediction deviates the true `medv` value by 3.271 points (in USD 1000's) - so it is quite significant because the prediction can be different in thousands of dollars \n",
        "* Based on `MAPE`, this 3.244 points deviation is equivalent to 25.45% of deviation relative to true `medv` value. So, the model still have relatively large deviation but we will use standard of 30% to decide the model as not acceptable, so we conclude that the model still `acceptable` to predict `medv` value. \n",
        "* Here, if we compare ridge and lasso model, lasso model performs technically speaking slightly better 25.45% vs 26% deviation compared to true `medv` value and we generally accept both model because `MAPE` is still below in 30%. "
      ],
      "metadata": {
        "id": "RmlV0yO_wJAG"
      }
    }
  ]
}