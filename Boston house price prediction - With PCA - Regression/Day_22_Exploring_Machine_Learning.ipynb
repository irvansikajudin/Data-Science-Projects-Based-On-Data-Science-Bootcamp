{
  "cells": [
    {
      "cell_type": "markdown",
      "id": "38b233eb",
      "metadata": {
        "id": "38b233eb"
      },
      "source": [
        "## Import Package"
      ]
    },
    {
      "cell_type": "code",
      "execution_count": null,
      "id": "a9cd28bf",
      "metadata": {
        "id": "a9cd28bf"
      },
      "outputs": [],
      "source": [
        "import warnings\n",
        "warnings.filterwarnings('ignore')\n",
        "\n",
        "import numpy as np\n",
        "import pandas as pd\n",
        "import seaborn as sns\n",
        "import matplotlib.pyplot as plt\n",
        "%matplotlib inline"
      ]
    },
    {
      "cell_type": "markdown",
      "id": "4de7df6b",
      "metadata": {
        "id": "4de7df6b"
      },
      "source": [
        "## Load Dataset"
      ]
    },
    {
      "cell_type": "code",
      "execution_count": null,
      "id": "045226aa",
      "metadata": {
        "id": "045226aa",
        "outputId": "8c8c8594-5f4f-4985-f131-c000370f8d55"
      },
      "outputs": [
        {
          "data": {
            "text/html": [
              "<div>\n",
              "<style scoped>\n",
              "    .dataframe tbody tr th:only-of-type {\n",
              "        vertical-align: middle;\n",
              "    }\n",
              "\n",
              "    .dataframe tbody tr th {\n",
              "        vertical-align: top;\n",
              "    }\n",
              "\n",
              "    .dataframe thead th {\n",
              "        text-align: right;\n",
              "    }\n",
              "</style>\n",
              "<table border=\"1\" class=\"dataframe\">\n",
              "  <thead>\n",
              "    <tr style=\"text-align: right;\">\n",
              "      <th></th>\n",
              "      <th>CRIM</th>\n",
              "      <th>ZN</th>\n",
              "      <th>INDUS</th>\n",
              "      <th>CHAS</th>\n",
              "      <th>NOX</th>\n",
              "      <th>RM</th>\n",
              "      <th>AGE</th>\n",
              "      <th>DIS</th>\n",
              "      <th>RAD</th>\n",
              "      <th>TAX</th>\n",
              "      <th>PTRATIO</th>\n",
              "      <th>B</th>\n",
              "      <th>LSTAT</th>\n",
              "      <th>MEDV</th>\n",
              "    </tr>\n",
              "  </thead>\n",
              "  <tbody>\n",
              "    <tr>\n",
              "      <th>0</th>\n",
              "      <td>0.00632</td>\n",
              "      <td>18.0</td>\n",
              "      <td>2.31</td>\n",
              "      <td>0.0</td>\n",
              "      <td>0.538</td>\n",
              "      <td>6.575</td>\n",
              "      <td>65.2</td>\n",
              "      <td>4.0900</td>\n",
              "      <td>1.0</td>\n",
              "      <td>296.0</td>\n",
              "      <td>15.3</td>\n",
              "      <td>396.90</td>\n",
              "      <td>4.98</td>\n",
              "      <td>24.0</td>\n",
              "    </tr>\n",
              "    <tr>\n",
              "      <th>1</th>\n",
              "      <td>0.02731</td>\n",
              "      <td>0.0</td>\n",
              "      <td>7.07</td>\n",
              "      <td>0.0</td>\n",
              "      <td>0.469</td>\n",
              "      <td>6.421</td>\n",
              "      <td>78.9</td>\n",
              "      <td>4.9671</td>\n",
              "      <td>2.0</td>\n",
              "      <td>242.0</td>\n",
              "      <td>17.8</td>\n",
              "      <td>396.90</td>\n",
              "      <td>9.14</td>\n",
              "      <td>21.6</td>\n",
              "    </tr>\n",
              "    <tr>\n",
              "      <th>2</th>\n",
              "      <td>0.02729</td>\n",
              "      <td>0.0</td>\n",
              "      <td>7.07</td>\n",
              "      <td>0.0</td>\n",
              "      <td>0.469</td>\n",
              "      <td>7.185</td>\n",
              "      <td>61.1</td>\n",
              "      <td>4.9671</td>\n",
              "      <td>2.0</td>\n",
              "      <td>242.0</td>\n",
              "      <td>17.8</td>\n",
              "      <td>392.83</td>\n",
              "      <td>4.03</td>\n",
              "      <td>34.7</td>\n",
              "    </tr>\n",
              "    <tr>\n",
              "      <th>3</th>\n",
              "      <td>0.03237</td>\n",
              "      <td>0.0</td>\n",
              "      <td>2.18</td>\n",
              "      <td>0.0</td>\n",
              "      <td>0.458</td>\n",
              "      <td>6.998</td>\n",
              "      <td>45.8</td>\n",
              "      <td>6.0622</td>\n",
              "      <td>3.0</td>\n",
              "      <td>222.0</td>\n",
              "      <td>18.7</td>\n",
              "      <td>394.63</td>\n",
              "      <td>2.94</td>\n",
              "      <td>33.4</td>\n",
              "    </tr>\n",
              "    <tr>\n",
              "      <th>4</th>\n",
              "      <td>0.06905</td>\n",
              "      <td>0.0</td>\n",
              "      <td>2.18</td>\n",
              "      <td>0.0</td>\n",
              "      <td>0.458</td>\n",
              "      <td>7.147</td>\n",
              "      <td>54.2</td>\n",
              "      <td>6.0622</td>\n",
              "      <td>3.0</td>\n",
              "      <td>222.0</td>\n",
              "      <td>18.7</td>\n",
              "      <td>396.90</td>\n",
              "      <td>5.33</td>\n",
              "      <td>36.2</td>\n",
              "    </tr>\n",
              "  </tbody>\n",
              "</table>\n",
              "</div>"
            ],
            "text/plain": [
              "      CRIM    ZN  INDUS  CHAS    NOX     RM   AGE     DIS  RAD    TAX  \\\n",
              "0  0.00632  18.0   2.31   0.0  0.538  6.575  65.2  4.0900  1.0  296.0   \n",
              "1  0.02731   0.0   7.07   0.0  0.469  6.421  78.9  4.9671  2.0  242.0   \n",
              "2  0.02729   0.0   7.07   0.0  0.469  7.185  61.1  4.9671  2.0  242.0   \n",
              "3  0.03237   0.0   2.18   0.0  0.458  6.998  45.8  6.0622  3.0  222.0   \n",
              "4  0.06905   0.0   2.18   0.0  0.458  7.147  54.2  6.0622  3.0  222.0   \n",
              "\n",
              "   PTRATIO       B  LSTAT  MEDV  \n",
              "0     15.3  396.90   4.98  24.0  \n",
              "1     17.8  396.90   9.14  21.6  \n",
              "2     17.8  392.83   4.03  34.7  \n",
              "3     18.7  394.63   2.94  33.4  \n",
              "4     18.7  396.90   5.33  36.2  "
            ]
          },
          "execution_count": 2,
          "metadata": {},
          "output_type": "execute_result"
        }
      ],
      "source": [
        "from sklearn.datasets import load_boston\n",
        "boston_dataset = load_boston()\n",
        "boston = pd.DataFrame(boston_dataset.data, columns=boston_dataset.feature_names)\n",
        "boston['MEDV'] = boston_dataset.target\n",
        "boston.head()"
      ]
    },
    {
      "cell_type": "markdown",
      "id": "f4ce0f96",
      "metadata": {
        "id": "f4ce0f96"
      },
      "source": [
        "## Data Preprocessing (20 point)"
      ]
    },
    {
      "cell_type": "markdown",
      "id": "ae8297e9",
      "metadata": {
        "id": "ae8297e9"
      },
      "source": [
        "1. lakukan data preprocessing termasuk kecuali melakukan reduksi dimensi"
      ]
    },
    {
      "cell_type": "markdown",
      "id": "b70e8177",
      "metadata": {
        "id": "b70e8177"
      },
      "source": [
        "### Check Null and Missing Values"
      ]
    },
    {
      "cell_type": "code",
      "execution_count": null,
      "id": "7745d1c2",
      "metadata": {
        "id": "7745d1c2",
        "outputId": "5230def6-f9de-40e9-c587-4374384c5783"
      },
      "outputs": [
        {
          "data": {
            "text/html": [
              "<div>\n",
              "<style scoped>\n",
              "    .dataframe tbody tr th:only-of-type {\n",
              "        vertical-align: middle;\n",
              "    }\n",
              "\n",
              "    .dataframe tbody tr th {\n",
              "        vertical-align: top;\n",
              "    }\n",
              "\n",
              "    .dataframe thead th {\n",
              "        text-align: right;\n",
              "    }\n",
              "</style>\n",
              "<table border=\"1\" class=\"dataframe\">\n",
              "  <thead>\n",
              "    <tr style=\"text-align: right;\">\n",
              "      <th></th>\n",
              "      <th>feature</th>\n",
              "      <th>missing_value</th>\n",
              "      <th>percentage</th>\n",
              "    </tr>\n",
              "  </thead>\n",
              "  <tbody>\n",
              "  </tbody>\n",
              "</table>\n",
              "</div>"
            ],
            "text/plain": [
              "Empty DataFrame\n",
              "Columns: [feature, missing_value, percentage]\n",
              "Index: []"
            ]
          },
          "execution_count": 3,
          "metadata": {},
          "output_type": "execute_result"
        }
      ],
      "source": [
        "data_null = boston.isnull().sum().reset_index()\n",
        "data_null.columns = ['feature','missing_value']\n",
        "data_null['percentage'] = round((data_null['missing_value']/len(boston))*100,2)\n",
        "data_null = data_null.sort_values('percentage', ascending=False).reset_index(drop=True)\n",
        "data_null = data_null[data_null['percentage']>0]\n",
        "data_null"
      ]
    },
    {
      "cell_type": "markdown",
      "id": "e605f951",
      "metadata": {
        "id": "e605f951"
      },
      "source": [
        "### Duplicate Values"
      ]
    },
    {
      "cell_type": "code",
      "execution_count": null,
      "id": "4ccfda9c",
      "metadata": {
        "id": "4ccfda9c",
        "outputId": "0e34d430-f4b6-45cb-e01a-b4405d37ffa1"
      },
      "outputs": [
        {
          "data": {
            "text/plain": [
              "0"
            ]
          },
          "execution_count": 4,
          "metadata": {},
          "output_type": "execute_result"
        }
      ],
      "source": [
        "boston.duplicated().sum()"
      ]
    },
    {
      "cell_type": "markdown",
      "id": "b39f00c0",
      "metadata": {
        "id": "b39f00c0"
      },
      "source": [
        "### Statistical Summary"
      ]
    },
    {
      "cell_type": "code",
      "execution_count": null,
      "id": "7678bbff",
      "metadata": {
        "id": "7678bbff",
        "outputId": "82227fe0-aa0f-4185-a1ed-d943723d41e2"
      },
      "outputs": [
        {
          "data": {
            "text/html": [
              "<div>\n",
              "<style scoped>\n",
              "    .dataframe tbody tr th:only-of-type {\n",
              "        vertical-align: middle;\n",
              "    }\n",
              "\n",
              "    .dataframe tbody tr th {\n",
              "        vertical-align: top;\n",
              "    }\n",
              "\n",
              "    .dataframe thead th {\n",
              "        text-align: right;\n",
              "    }\n",
              "</style>\n",
              "<table border=\"1\" class=\"dataframe\">\n",
              "  <thead>\n",
              "    <tr style=\"text-align: right;\">\n",
              "      <th></th>\n",
              "      <th>CRIM</th>\n",
              "      <th>ZN</th>\n",
              "      <th>INDUS</th>\n",
              "      <th>CHAS</th>\n",
              "      <th>NOX</th>\n",
              "      <th>RM</th>\n",
              "      <th>AGE</th>\n",
              "      <th>DIS</th>\n",
              "      <th>RAD</th>\n",
              "      <th>TAX</th>\n",
              "      <th>PTRATIO</th>\n",
              "      <th>B</th>\n",
              "      <th>LSTAT</th>\n",
              "      <th>MEDV</th>\n",
              "    </tr>\n",
              "  </thead>\n",
              "  <tbody>\n",
              "    <tr>\n",
              "      <th>count</th>\n",
              "      <td>506.000000</td>\n",
              "      <td>506.000000</td>\n",
              "      <td>506.000000</td>\n",
              "      <td>506.000000</td>\n",
              "      <td>506.000000</td>\n",
              "      <td>506.000000</td>\n",
              "      <td>506.000000</td>\n",
              "      <td>506.000000</td>\n",
              "      <td>506.000000</td>\n",
              "      <td>506.000000</td>\n",
              "      <td>506.000000</td>\n",
              "      <td>506.000000</td>\n",
              "      <td>506.000000</td>\n",
              "      <td>506.000000</td>\n",
              "    </tr>\n",
              "    <tr>\n",
              "      <th>mean</th>\n",
              "      <td>3.613524</td>\n",
              "      <td>11.363636</td>\n",
              "      <td>11.136779</td>\n",
              "      <td>0.069170</td>\n",
              "      <td>0.554695</td>\n",
              "      <td>6.284634</td>\n",
              "      <td>68.574901</td>\n",
              "      <td>3.795043</td>\n",
              "      <td>9.549407</td>\n",
              "      <td>408.237154</td>\n",
              "      <td>18.455534</td>\n",
              "      <td>356.674032</td>\n",
              "      <td>12.653063</td>\n",
              "      <td>22.532806</td>\n",
              "    </tr>\n",
              "    <tr>\n",
              "      <th>std</th>\n",
              "      <td>8.601545</td>\n",
              "      <td>23.322453</td>\n",
              "      <td>6.860353</td>\n",
              "      <td>0.253994</td>\n",
              "      <td>0.115878</td>\n",
              "      <td>0.702617</td>\n",
              "      <td>28.148861</td>\n",
              "      <td>2.105710</td>\n",
              "      <td>8.707259</td>\n",
              "      <td>168.537116</td>\n",
              "      <td>2.164946</td>\n",
              "      <td>91.294864</td>\n",
              "      <td>7.141062</td>\n",
              "      <td>9.197104</td>\n",
              "    </tr>\n",
              "    <tr>\n",
              "      <th>min</th>\n",
              "      <td>0.006320</td>\n",
              "      <td>0.000000</td>\n",
              "      <td>0.460000</td>\n",
              "      <td>0.000000</td>\n",
              "      <td>0.385000</td>\n",
              "      <td>3.561000</td>\n",
              "      <td>2.900000</td>\n",
              "      <td>1.129600</td>\n",
              "      <td>1.000000</td>\n",
              "      <td>187.000000</td>\n",
              "      <td>12.600000</td>\n",
              "      <td>0.320000</td>\n",
              "      <td>1.730000</td>\n",
              "      <td>5.000000</td>\n",
              "    </tr>\n",
              "    <tr>\n",
              "      <th>25%</th>\n",
              "      <td>0.082045</td>\n",
              "      <td>0.000000</td>\n",
              "      <td>5.190000</td>\n",
              "      <td>0.000000</td>\n",
              "      <td>0.449000</td>\n",
              "      <td>5.885500</td>\n",
              "      <td>45.025000</td>\n",
              "      <td>2.100175</td>\n",
              "      <td>4.000000</td>\n",
              "      <td>279.000000</td>\n",
              "      <td>17.400000</td>\n",
              "      <td>375.377500</td>\n",
              "      <td>6.950000</td>\n",
              "      <td>17.025000</td>\n",
              "    </tr>\n",
              "    <tr>\n",
              "      <th>50%</th>\n",
              "      <td>0.256510</td>\n",
              "      <td>0.000000</td>\n",
              "      <td>9.690000</td>\n",
              "      <td>0.000000</td>\n",
              "      <td>0.538000</td>\n",
              "      <td>6.208500</td>\n",
              "      <td>77.500000</td>\n",
              "      <td>3.207450</td>\n",
              "      <td>5.000000</td>\n",
              "      <td>330.000000</td>\n",
              "      <td>19.050000</td>\n",
              "      <td>391.440000</td>\n",
              "      <td>11.360000</td>\n",
              "      <td>21.200000</td>\n",
              "    </tr>\n",
              "    <tr>\n",
              "      <th>75%</th>\n",
              "      <td>3.677083</td>\n",
              "      <td>12.500000</td>\n",
              "      <td>18.100000</td>\n",
              "      <td>0.000000</td>\n",
              "      <td>0.624000</td>\n",
              "      <td>6.623500</td>\n",
              "      <td>94.075000</td>\n",
              "      <td>5.188425</td>\n",
              "      <td>24.000000</td>\n",
              "      <td>666.000000</td>\n",
              "      <td>20.200000</td>\n",
              "      <td>396.225000</td>\n",
              "      <td>16.955000</td>\n",
              "      <td>25.000000</td>\n",
              "    </tr>\n",
              "    <tr>\n",
              "      <th>max</th>\n",
              "      <td>88.976200</td>\n",
              "      <td>100.000000</td>\n",
              "      <td>27.740000</td>\n",
              "      <td>1.000000</td>\n",
              "      <td>0.871000</td>\n",
              "      <td>8.780000</td>\n",
              "      <td>100.000000</td>\n",
              "      <td>12.126500</td>\n",
              "      <td>24.000000</td>\n",
              "      <td>711.000000</td>\n",
              "      <td>22.000000</td>\n",
              "      <td>396.900000</td>\n",
              "      <td>37.970000</td>\n",
              "      <td>50.000000</td>\n",
              "    </tr>\n",
              "  </tbody>\n",
              "</table>\n",
              "</div>"
            ],
            "text/plain": [
              "             CRIM          ZN       INDUS        CHAS         NOX          RM  \\\n",
              "count  506.000000  506.000000  506.000000  506.000000  506.000000  506.000000   \n",
              "mean     3.613524   11.363636   11.136779    0.069170    0.554695    6.284634   \n",
              "std      8.601545   23.322453    6.860353    0.253994    0.115878    0.702617   \n",
              "min      0.006320    0.000000    0.460000    0.000000    0.385000    3.561000   \n",
              "25%      0.082045    0.000000    5.190000    0.000000    0.449000    5.885500   \n",
              "50%      0.256510    0.000000    9.690000    0.000000    0.538000    6.208500   \n",
              "75%      3.677083   12.500000   18.100000    0.000000    0.624000    6.623500   \n",
              "max     88.976200  100.000000   27.740000    1.000000    0.871000    8.780000   \n",
              "\n",
              "              AGE         DIS         RAD         TAX     PTRATIO           B  \\\n",
              "count  506.000000  506.000000  506.000000  506.000000  506.000000  506.000000   \n",
              "mean    68.574901    3.795043    9.549407  408.237154   18.455534  356.674032   \n",
              "std     28.148861    2.105710    8.707259  168.537116    2.164946   91.294864   \n",
              "min      2.900000    1.129600    1.000000  187.000000   12.600000    0.320000   \n",
              "25%     45.025000    2.100175    4.000000  279.000000   17.400000  375.377500   \n",
              "50%     77.500000    3.207450    5.000000  330.000000   19.050000  391.440000   \n",
              "75%     94.075000    5.188425   24.000000  666.000000   20.200000  396.225000   \n",
              "max    100.000000   12.126500   24.000000  711.000000   22.000000  396.900000   \n",
              "\n",
              "            LSTAT        MEDV  \n",
              "count  506.000000  506.000000  \n",
              "mean    12.653063   22.532806  \n",
              "std      7.141062    9.197104  \n",
              "min      1.730000    5.000000  \n",
              "25%      6.950000   17.025000  \n",
              "50%     11.360000   21.200000  \n",
              "75%     16.955000   25.000000  \n",
              "max     37.970000   50.000000  "
            ]
          },
          "execution_count": 5,
          "metadata": {},
          "output_type": "execute_result"
        }
      ],
      "source": [
        "boston.describe()"
      ]
    },
    {
      "cell_type": "markdown",
      "id": "ec250289",
      "metadata": {
        "id": "ec250289"
      },
      "source": [
        "### Distribution and outlier"
      ]
    },
    {
      "cell_type": "code",
      "execution_count": null,
      "id": "b393b03e",
      "metadata": {
        "id": "b393b03e"
      },
      "outputs": [],
      "source": []
    },
    {
      "cell_type": "code",
      "execution_count": null,
      "id": "2f5445bb",
      "metadata": {
        "id": "2f5445bb",
        "outputId": "3cb7f6ec-6e37-4c2b-dc12-a3fe18e8cc38"
      },
      "outputs": [
        {
          "data": {
            "text/plain": [
              "['CRIM',\n",
              " 'ZN',\n",
              " 'INDUS',\n",
              " 'CHAS',\n",
              " 'NOX',\n",
              " 'RM',\n",
              " 'AGE',\n",
              " 'DIS',\n",
              " 'RAD',\n",
              " 'TAX',\n",
              " 'PTRATIO',\n",
              " 'B',\n",
              " 'LSTAT']"
            ]
          },
          "execution_count": 6,
          "metadata": {},
          "output_type": "execute_result"
        }
      ],
      "source": [
        "feat_num = list(boston)[:-1]\n",
        "feat_num"
      ]
    },
    {
      "cell_type": "code",
      "execution_count": null,
      "id": "3b1addf1",
      "metadata": {
        "id": "3b1addf1",
        "outputId": "70b763a1-ae54-4bd5-c4e0-95c9e5d578d4"
      },
      "outputs": [
        {
          "data": {
            "image/png": "[encoded data removed]",
            "text/plain": [
              "<Figure size 1080x504 with 13 Axes>"
            ]
          },
          "metadata": {
            "needs_background": "light"
          },
          "output_type": "display_data"
        }
      ],
      "source": [
        "plt.figure(figsize=(15, 7))\n",
        "for i in range(0, len(feat_num)):\n",
        "    plt.subplot(1, 14, i+1)\n",
        "    sns.boxplot(y=boston[feat_num[i]],color='green',orient='v')\n",
        "    plt.tight_layout()\n",
        "    "
      ]
    },
    {
      "cell_type": "code",
      "execution_count": null,
      "id": "e842dd23",
      "metadata": {
        "id": "e842dd23"
      },
      "outputs": [],
      "source": [
        "boston['CRIM'] = np.log10(boston['CRIM'] + 1)\n",
        "boston['ZN'] = np.log10(boston['ZN'] + 1)\n",
        "boston['LSTAT'] = np.log10(boston['LSTAT'] + 1)"
      ]
    },
    {
      "cell_type": "code",
      "execution_count": null,
      "id": "41c57ba0",
      "metadata": {
        "id": "41c57ba0",
        "outputId": "5ec57aab-37da-4b46-af7d-2275904c61d4"
      },
      "outputs": [
        {
          "data": {
            "image/png": "[encoded data removed]",
            "text/plain": [
              "<Figure size 1080x504 with 13 Axes>"
            ]
          },
          "metadata": {
            "needs_background": "light"
          },
          "output_type": "display_data"
        }
      ],
      "source": [
        "plt.figure(figsize=(15, 7))\n",
        "for i in range(0, len(feat_num)):\n",
        "    plt.subplot(1, 14, i+1)\n",
        "    sns.boxplot(y=boston[feat_num[i]],color='green',orient='v')\n",
        "    plt.tight_layout()\n",
        "    "
      ]
    },
    {
      "cell_type": "markdown",
      "id": "09e0a149",
      "metadata": {
        "id": "09e0a149"
      },
      "source": [
        "tidak dilakukan remove terhadap outlier karena data yang dimiliki terlalu sedikit, sehinggu cukup di transformasi untuk handling outlier"
      ]
    },
    {
      "cell_type": "markdown",
      "id": "6284c1a6",
      "metadata": {
        "id": "6284c1a6"
      },
      "source": [
        "### Correlation Matrix"
      ]
    },
    {
      "cell_type": "code",
      "execution_count": null,
      "id": "040ef317",
      "metadata": {
        "id": "040ef317",
        "outputId": "1bb86fd3-4bbe-4acd-98b4-0186414e97c9"
      },
      "outputs": [
        {
          "data": {
            "text/plain": [
              "<AxesSubplot:>"
            ]
          },
          "execution_count": 10,
          "metadata": {},
          "output_type": "execute_result"
        },
        {
          "data": {
            "image/png": "[encoded data removed]",
            "text/plain": [
              "<Figure size 1152x720 with 2 Axes>"
            ]
          },
          "metadata": {
            "needs_background": "light"
          },
          "output_type": "display_data"
        }
      ],
      "source": [
        "corr_= boston.corr()\n",
        "plt.figure(figsize=(16,10))\n",
        "sns.heatmap(corr_, annot=True, fmt = \".2f\", cmap = \"BuPu\")"
      ]
    },
    {
      "cell_type": "markdown",
      "id": "842fdabb",
      "metadata": {
        "id": "842fdabb"
      },
      "source": [
        "korelasi fitur dan target cukup bagus sehingga dapat menggunakan model linear yaitu linear regression<br><br>\n",
        "terdapat multicollinearity, sehingga akan di drop sebagian fitur"
      ]
    },
    {
      "cell_type": "code",
      "execution_count": null,
      "id": "ec565b24",
      "metadata": {
        "id": "ec565b24"
      },
      "outputs": [],
      "source": [
        "boston = boston.drop(['RAD', 'TAX','NOX','AGE'], axis=1) "
      ]
    },
    {
      "cell_type": "code",
      "execution_count": null,
      "id": "4ba6eaeb",
      "metadata": {
        "id": "4ba6eaeb",
        "outputId": "6c497d73-f4e7-432c-eafd-93e8b5de7e72"
      },
      "outputs": [
        {
          "data": {
            "text/plain": [
              "<AxesSubplot:>"
            ]
          },
          "execution_count": 12,
          "metadata": {},
          "output_type": "execute_result"
        },
        {
          "data": {
            "image/png": "[encoded data removed]",
            "text/plain": [
              "<Figure size 1152x720 with 2 Axes>"
            ]
          },
          "metadata": {
            "needs_background": "light"
          },
          "output_type": "display_data"
        }
      ],
      "source": [
        "corr_= boston.corr()\n",
        "plt.figure(figsize=(16,10))\n",
        "sns.heatmap(corr_, annot=True, fmt = \".2f\", cmap = \"BuPu\")"
      ]
    },
    {
      "cell_type": "markdown",
      "id": "4bf1772d",
      "metadata": {
        "id": "4bf1772d"
      },
      "source": [
        "### Split fitur and target"
      ]
    },
    {
      "cell_type": "code",
      "execution_count": null,
      "id": "110f1bd6",
      "metadata": {
        "id": "110f1bd6"
      },
      "outputs": [],
      "source": [
        "X = boston.drop(['MEDV'], axis=1)\n",
        "y = boston[['MEDV']]"
      ]
    },
    {
      "cell_type": "code",
      "execution_count": null,
      "id": "a24d1d52",
      "metadata": {
        "id": "a24d1d52",
        "outputId": "cc861679-4f6d-4278-f7e7-83e7bc53ad98"
      },
      "outputs": [
        {
          "data": {
            "text/plain": [
              "['CRIM', 'ZN', 'INDUS', 'CHAS', 'RM', 'DIS', 'PTRATIO', 'B', 'LSTAT']"
            ]
          },
          "execution_count": 14,
          "metadata": {},
          "output_type": "execute_result"
        }
      ],
      "source": [
        "feats = list(X)\n",
        "feats"
      ]
    },
    {
      "cell_type": "markdown",
      "id": "2113b74f",
      "metadata": {
        "id": "2113b74f"
      },
      "source": [
        "### Scaling"
      ]
    },
    {
      "cell_type": "code",
      "execution_count": null,
      "id": "5889aa84",
      "metadata": {
        "id": "5889aa84"
      },
      "outputs": [],
      "source": [
        "from sklearn.preprocessing import StandardScaler\n",
        "\n",
        "scaler = StandardScaler()\n",
        "scaler.fit(X)\n",
        "X_std = scaler.transform(X)"
      ]
    },
    {
      "cell_type": "code",
      "execution_count": null,
      "id": "a8a8a4ba",
      "metadata": {
        "id": "a8a8a4ba",
        "outputId": "c2c576b4-395a-4b6d-d9c9-bae38e3c8be1"
      },
      "outputs": [
        {
          "data": {
            "text/html": [
              "<div>\n",
              "<style scoped>\n",
              "    .dataframe tbody tr th:only-of-type {\n",
              "        vertical-align: middle;\n",
              "    }\n",
              "\n",
              "    .dataframe tbody tr th {\n",
              "        vertical-align: top;\n",
              "    }\n",
              "\n",
              "    .dataframe thead th {\n",
              "        text-align: right;\n",
              "    }\n",
              "</style>\n",
              "<table border=\"1\" class=\"dataframe\">\n",
              "  <thead>\n",
              "    <tr style=\"text-align: right;\">\n",
              "      <th></th>\n",
              "      <th>CRIM</th>\n",
              "      <th>ZN</th>\n",
              "      <th>INDUS</th>\n",
              "      <th>CHAS</th>\n",
              "      <th>RM</th>\n",
              "      <th>DIS</th>\n",
              "      <th>PTRATIO</th>\n",
              "      <th>B</th>\n",
              "      <th>LSTAT</th>\n",
              "    </tr>\n",
              "  </thead>\n",
              "  <tbody>\n",
              "    <tr>\n",
              "      <th>0</th>\n",
              "      <td>-0.789960</td>\n",
              "      <td>1.229330</td>\n",
              "      <td>-1.287909</td>\n",
              "      <td>-0.272599</td>\n",
              "      <td>0.413672</td>\n",
              "      <td>0.140214</td>\n",
              "      <td>-1.459000</td>\n",
              "      <td>0.441052</td>\n",
              "      <td>-1.276118</td>\n",
              "    </tr>\n",
              "    <tr>\n",
              "      <th>1</th>\n",
              "      <td>-0.769755</td>\n",
              "      <td>-0.589091</td>\n",
              "      <td>-0.593381</td>\n",
              "      <td>-0.272599</td>\n",
              "      <td>0.194274</td>\n",
              "      <td>0.557160</td>\n",
              "      <td>-0.303094</td>\n",
              "      <td>0.441052</td>\n",
              "      <td>-0.295491</td>\n",
              "    </tr>\n",
              "    <tr>\n",
              "      <th>2</th>\n",
              "      <td>-0.769774</td>\n",
              "      <td>-0.589091</td>\n",
              "      <td>-0.593381</td>\n",
              "      <td>-0.272599</td>\n",
              "      <td>1.282714</td>\n",
              "      <td>0.557160</td>\n",
              "      <td>-0.303094</td>\n",
              "      <td>0.396427</td>\n",
              "      <td>-1.597382</td>\n",
              "    </tr>\n",
              "    <tr>\n",
              "      <th>3</th>\n",
              "      <td>-0.764946</td>\n",
              "      <td>-0.589091</td>\n",
              "      <td>-1.306878</td>\n",
              "      <td>-0.272599</td>\n",
              "      <td>1.016303</td>\n",
              "      <td>1.077737</td>\n",
              "      <td>0.113032</td>\n",
              "      <td>0.416163</td>\n",
              "      <td>-2.050937</td>\n",
              "    </tr>\n",
              "    <tr>\n",
              "      <th>4</th>\n",
              "      <td>-0.730775</td>\n",
              "      <td>-0.589091</td>\n",
              "      <td>-1.306878</td>\n",
              "      <td>-0.272599</td>\n",
              "      <td>1.228577</td>\n",
              "      <td>1.077737</td>\n",
              "      <td>0.113032</td>\n",
              "      <td>0.441052</td>\n",
              "      <td>-1.170492</td>\n",
              "    </tr>\n",
              "  </tbody>\n",
              "</table>\n",
              "</div>"
            ],
            "text/plain": [
              "       CRIM        ZN     INDUS      CHAS        RM       DIS   PTRATIO  \\\n",
              "0 -0.789960  1.229330 -1.287909 -0.272599  0.413672  0.140214 -1.459000   \n",
              "1 -0.769755 -0.589091 -0.593381 -0.272599  0.194274  0.557160 -0.303094   \n",
              "2 -0.769774 -0.589091 -0.593381 -0.272599  1.282714  0.557160 -0.303094   \n",
              "3 -0.764946 -0.589091 -1.306878 -0.272599  1.016303  1.077737  0.113032   \n",
              "4 -0.730775 -0.589091 -1.306878 -0.272599  1.228577  1.077737  0.113032   \n",
              "\n",
              "          B     LSTAT  \n",
              "0  0.441052 -1.276118  \n",
              "1  0.441052 -0.295491  \n",
              "2  0.396427 -1.597382  \n",
              "3  0.416163 -2.050937  \n",
              "4  0.441052 -1.170492  "
            ]
          },
          "execution_count": 16,
          "metadata": {},
          "output_type": "execute_result"
        }
      ],
      "source": [
        "boston_std = pd.DataFrame(data = X_std, columns = feats)\n",
        "boston_std.head()"
      ]
    },
    {
      "cell_type": "markdown",
      "id": "0a1ed707",
      "metadata": {
        "id": "0a1ed707"
      },
      "source": [
        "### PCA (40)"
      ]
    },
    {
      "cell_type": "markdown",
      "id": "2e8b2197",
      "metadata": {
        "id": "2e8b2197"
      },
      "source": [
        "1. lakukan data preprocessing termasuk melakukan reduksi dimensi dengan PCA (analisis berapa penggunaan PC yang tepat)"
      ]
    },
    {
      "cell_type": "code",
      "execution_count": null,
      "id": "acfcb6c1",
      "metadata": {
        "id": "acfcb6c1",
        "outputId": "01df149f-8375-43a9-e7a1-bc1070c050d9"
      },
      "outputs": [
        {
          "data": {
            "text/html": [
              "<div>\n",
              "<style scoped>\n",
              "    .dataframe tbody tr th:only-of-type {\n",
              "        vertical-align: middle;\n",
              "    }\n",
              "\n",
              "    .dataframe tbody tr th {\n",
              "        vertical-align: top;\n",
              "    }\n",
              "\n",
              "    .dataframe thead th {\n",
              "        text-align: right;\n",
              "    }\n",
              "</style>\n",
              "<table border=\"1\" class=\"dataframe\">\n",
              "  <thead>\n",
              "    <tr style=\"text-align: right;\">\n",
              "      <th></th>\n",
              "      <th>pc1</th>\n",
              "      <th>pc2</th>\n",
              "      <th>pc3</th>\n",
              "      <th>pc4</th>\n",
              "      <th>pc5</th>\n",
              "      <th>pc6</th>\n",
              "      <th>pc7</th>\n",
              "      <th>pc8</th>\n",
              "      <th>pc9</th>\n",
              "    </tr>\n",
              "  </thead>\n",
              "  <tbody>\n",
              "    <tr>\n",
              "      <th>0</th>\n",
              "      <td>-2.517180</td>\n",
              "      <td>0.232009</td>\n",
              "      <td>0.394476</td>\n",
              "      <td>0.080798</td>\n",
              "      <td>0.872794</td>\n",
              "      <td>-0.021732</td>\n",
              "      <td>-0.113687</td>\n",
              "      <td>0.505575</td>\n",
              "      <td>-0.654097</td>\n",
              "    </tr>\n",
              "    <tr>\n",
              "      <th>1</th>\n",
              "      <td>-0.911472</td>\n",
              "      <td>-0.273002</td>\n",
              "      <td>-0.441132</td>\n",
              "      <td>-0.471573</td>\n",
              "      <td>0.162691</td>\n",
              "      <td>-0.689879</td>\n",
              "      <td>-0.147698</td>\n",
              "      <td>0.043755</td>\n",
              "      <td>0.489305</td>\n",
              "    </tr>\n",
              "    <tr>\n",
              "      <th>2</th>\n",
              "      <td>-1.732619</td>\n",
              "      <td>0.533832</td>\n",
              "      <td>0.069448</td>\n",
              "      <td>-1.397126</td>\n",
              "      <td>-0.262285</td>\n",
              "      <td>-0.588376</td>\n",
              "      <td>0.241669</td>\n",
              "      <td>0.351615</td>\n",
              "      <td>0.530732</td>\n",
              "    </tr>\n",
              "    <tr>\n",
              "      <th>3</th>\n",
              "      <td>-2.221465</td>\n",
              "      <td>0.068699</td>\n",
              "      <td>-0.013869</td>\n",
              "      <td>-1.365813</td>\n",
              "      <td>-0.882825</td>\n",
              "      <td>-0.775329</td>\n",
              "      <td>0.056870</td>\n",
              "      <td>0.911013</td>\n",
              "      <td>0.531178</td>\n",
              "    </tr>\n",
              "    <tr>\n",
              "      <th>4</th>\n",
              "      <td>-1.922244</td>\n",
              "      <td>-0.035496</td>\n",
              "      <td>-0.026025</td>\n",
              "      <td>-1.190246</td>\n",
              "      <td>-0.765701</td>\n",
              "      <td>-0.696657</td>\n",
              "      <td>-0.412979</td>\n",
              "      <td>0.261310</td>\n",
              "      <td>0.698185</td>\n",
              "    </tr>\n",
              "  </tbody>\n",
              "</table>\n",
              "</div>"
            ],
            "text/plain": [
              "        pc1       pc2       pc3       pc4       pc5       pc6       pc7  \\\n",
              "0 -2.517180  0.232009  0.394476  0.080798  0.872794 -0.021732 -0.113687   \n",
              "1 -0.911472 -0.273002 -0.441132 -0.471573  0.162691 -0.689879 -0.147698   \n",
              "2 -1.732619  0.533832  0.069448 -1.397126 -0.262285 -0.588376  0.241669   \n",
              "3 -2.221465  0.068699 -0.013869 -1.365813 -0.882825 -0.775329  0.056870   \n",
              "4 -1.922244 -0.035496 -0.026025 -1.190246 -0.765701 -0.696657 -0.412979   \n",
              "\n",
              "        pc8       pc9  \n",
              "0  0.505575 -0.654097  \n",
              "1  0.043755  0.489305  \n",
              "2  0.351615  0.530732  \n",
              "3  0.911013  0.531178  \n",
              "4  0.261310  0.698185  "
            ]
          },
          "execution_count": 17,
          "metadata": {},
          "output_type": "execute_result"
        }
      ],
      "source": [
        "from sklearn.decomposition import PCA\n",
        "\n",
        "pca = PCA(n_components=9)\n",
        "pca.fit(X_std)\n",
        "pcs = pca.transform(X_std)\n",
        "\n",
        "pdf = pd.DataFrame(data = pcs, columns = ['pc1', 'pc2', 'pc3', 'pc4', 'pc5', 'pc6', 'pc7', 'pc8', 'pc9'])\n",
        "pdf.head()"
      ]
    },
    {
      "cell_type": "markdown",
      "id": "be2b5dae",
      "metadata": {
        "id": "be2b5dae"
      },
      "source": [
        "#### Skree Plot"
      ]
    },
    {
      "cell_type": "code",
      "execution_count": null,
      "id": "c22e6e06",
      "metadata": {
        "id": "c22e6e06",
        "outputId": "42f01100-2685-4dc7-f62b-135174d1f42b"
      },
      "outputs": [
        {
          "name": "stdout",
          "output_type": "stream",
          "text": [
            "Explained variance: [4.09169289 1.22252811 1.00836173 0.81588294 0.68734153 0.47164013\n",
            " 0.27945448 0.25273997 0.18818   ]\n",
            "Explained variance ratio: [45.37340595 13.55680057 11.18187685  9.04745027  7.62203494  5.23008923\n",
            "  3.09891336  2.8026721   2.08675672]\n"
          ]
        }
      ],
      "source": [
        "print('Explained variance:', pca.explained_variance_)\n",
        "print('Explained variance ratio:', pca.explained_variance_ratio_*100)"
      ]
    },
    {
      "cell_type": "code",
      "execution_count": null,
      "id": "79581763",
      "metadata": {
        "id": "79581763",
        "outputId": "d991283b-fe7f-40dd-a66d-0a7c60503db7"
      },
      "outputs": [
        {
          "data": {
            "text/plain": [
              "<BarContainer object of 9 artists>"
            ]
          },
          "execution_count": 19,
          "metadata": {},
          "output_type": "execute_result"
        },
        {
          "data": {
            "image/png": "[encoded data removed]",
            "text/plain": [
              "<Figure size 1080x720 with 1 Axes>"
            ]
          },
          "metadata": {
            "needs_background": "light"
          },
          "output_type": "display_data"
        }
      ],
      "source": [
        "fig, ax = plt.subplots(figsize=(15,10))\n",
        "plt.bar(['pc1', 'pc2', 'pc3', 'pc4', 'pc5', 'pc6', 'pc7', 'pc8', 'pc9'], pca.explained_variance_ratio_ * 100)"
      ]
    },
    {
      "cell_type": "code",
      "execution_count": null,
      "id": "bbb2d3b6",
      "metadata": {
        "id": "bbb2d3b6",
        "outputId": "a875061b-5845-4661-fcdc-637f6d594ef8"
      },
      "outputs": [
        {
          "data": {
            "text/plain": [
              "array([45.37340595, 13.55680057, 11.18187685,  9.04745027,  7.62203494,\n",
              "        5.23008923])"
            ]
          },
          "execution_count": 20,
          "metadata": {},
          "output_type": "execute_result"
        }
      ],
      "source": [
        "pca.explained_variance_ratio_[0:6]*100"
      ]
    },
    {
      "cell_type": "code",
      "execution_count": null,
      "id": "f7fd037b",
      "metadata": {
        "id": "f7fd037b",
        "outputId": "723f67e6-e7a1-426f-c700-a45b98221a26"
      },
      "outputs": [
        {
          "data": {
            "text/plain": [
              "92.01165781582279"
            ]
          },
          "execution_count": 21,
          "metadata": {},
          "output_type": "execute_result"
        }
      ],
      "source": [
        "pca.explained_variance_ratio_[0:6].sum()*100"
      ]
    },
    {
      "cell_type": "markdown",
      "id": "1b56a2b6",
      "metadata": {
        "id": "1b56a2b6"
      },
      "source": [
        "hanya menggunakan 6 PC karena sudah mengcover 90% informasi data original"
      ]
    },
    {
      "cell_type": "markdown",
      "id": "6380f270",
      "metadata": {
        "id": "6380f270"
      },
      "source": [
        "#### Feature Reduction"
      ]
    },
    {
      "cell_type": "code",
      "execution_count": null,
      "id": "d220386c",
      "metadata": {
        "id": "d220386c",
        "outputId": "55b5de8a-778b-406b-bb8b-752bdc84d31d"
      },
      "outputs": [
        {
          "data": {
            "text/html": [
              "<div>\n",
              "<style scoped>\n",
              "    .dataframe tbody tr th:only-of-type {\n",
              "        vertical-align: middle;\n",
              "    }\n",
              "\n",
              "    .dataframe tbody tr th {\n",
              "        vertical-align: top;\n",
              "    }\n",
              "\n",
              "    .dataframe thead th {\n",
              "        text-align: right;\n",
              "    }\n",
              "</style>\n",
              "<table border=\"1\" class=\"dataframe\">\n",
              "  <thead>\n",
              "    <tr style=\"text-align: right;\">\n",
              "      <th></th>\n",
              "      <th>pc1</th>\n",
              "      <th>pc2</th>\n",
              "      <th>pc3</th>\n",
              "      <th>pc4</th>\n",
              "      <th>pc5</th>\n",
              "      <th>pc6</th>\n",
              "    </tr>\n",
              "  </thead>\n",
              "  <tbody>\n",
              "    <tr>\n",
              "      <th>0</th>\n",
              "      <td>-2.517180</td>\n",
              "      <td>0.232009</td>\n",
              "      <td>0.394476</td>\n",
              "      <td>0.080798</td>\n",
              "      <td>0.872794</td>\n",
              "      <td>-0.021732</td>\n",
              "    </tr>\n",
              "    <tr>\n",
              "      <th>1</th>\n",
              "      <td>-0.911472</td>\n",
              "      <td>-0.273002</td>\n",
              "      <td>-0.441132</td>\n",
              "      <td>-0.471573</td>\n",
              "      <td>0.162691</td>\n",
              "      <td>-0.689879</td>\n",
              "    </tr>\n",
              "    <tr>\n",
              "      <th>2</th>\n",
              "      <td>-1.732619</td>\n",
              "      <td>0.533832</td>\n",
              "      <td>0.069448</td>\n",
              "      <td>-1.397126</td>\n",
              "      <td>-0.262285</td>\n",
              "      <td>-0.588376</td>\n",
              "    </tr>\n",
              "    <tr>\n",
              "      <th>3</th>\n",
              "      <td>-2.221465</td>\n",
              "      <td>0.068699</td>\n",
              "      <td>-0.013869</td>\n",
              "      <td>-1.365813</td>\n",
              "      <td>-0.882825</td>\n",
              "      <td>-0.775329</td>\n",
              "    </tr>\n",
              "    <tr>\n",
              "      <th>4</th>\n",
              "      <td>-1.922244</td>\n",
              "      <td>-0.035496</td>\n",
              "      <td>-0.026025</td>\n",
              "      <td>-1.190246</td>\n",
              "      <td>-0.765701</td>\n",
              "      <td>-0.696657</td>\n",
              "    </tr>\n",
              "  </tbody>\n",
              "</table>\n",
              "</div>"
            ],
            "text/plain": [
              "        pc1       pc2       pc3       pc4       pc5       pc6\n",
              "0 -2.517180  0.232009  0.394476  0.080798  0.872794 -0.021732\n",
              "1 -0.911472 -0.273002 -0.441132 -0.471573  0.162691 -0.689879\n",
              "2 -1.732619  0.533832  0.069448 -1.397126 -0.262285 -0.588376\n",
              "3 -2.221465  0.068699 -0.013869 -1.365813 -0.882825 -0.775329\n",
              "4 -1.922244 -0.035496 -0.026025 -1.190246 -0.765701 -0.696657"
            ]
          },
          "execution_count": 22,
          "metadata": {},
          "output_type": "execute_result"
        }
      ],
      "source": [
        "pca = PCA(n_components=6)\n",
        "pca.fit(X_std)\n",
        "pcs = pca.transform(X_std)\n",
        "\n",
        "X_std_pca = pd.DataFrame(data = pcs, columns = ['pc1', 'pc2', 'pc3', 'pc4', 'pc5', 'pc6'])\n",
        "X_std_pca.head()"
      ]
    },
    {
      "cell_type": "markdown",
      "id": "efcb65ab",
      "metadata": {
        "id": "efcb65ab"
      },
      "source": [
        "### Split Dataset"
      ]
    },
    {
      "cell_type": "code",
      "execution_count": null,
      "id": "a84e98aa",
      "metadata": {
        "id": "a84e98aa"
      },
      "outputs": [],
      "source": [
        "from sklearn.model_selection import train_test_split"
      ]
    },
    {
      "cell_type": "markdown",
      "id": "1dca656c",
      "metadata": {
        "id": "1dca656c"
      },
      "source": [
        "#### Without PCA"
      ]
    },
    {
      "cell_type": "code",
      "execution_count": null,
      "id": "81ee0f75",
      "metadata": {
        "id": "81ee0f75",
        "outputId": "b8694d40-e55c-47a7-ce53-b1d1b6078754"
      },
      "outputs": [
        {
          "name": "stdout",
          "output_type": "stream",
          "text": [
            "(404, 9)\n",
            "(102, 9)\n",
            "(404, 1)\n",
            "(102, 1)\n"
          ]
        }
      ],
      "source": [
        "X_train, X_test, y_train, y_test = train_test_split(X_std, y, test_size = 0.2, random_state=5)\n",
        "print(X_train.shape)\n",
        "print(X_test.shape)\n",
        "print(y_train.shape)\n",
        "print(y_test.shape)"
      ]
    },
    {
      "cell_type": "markdown",
      "id": "7887c163",
      "metadata": {
        "id": "7887c163"
      },
      "source": [
        "#### With PCA"
      ]
    },
    {
      "cell_type": "code",
      "execution_count": null,
      "id": "01a9b257",
      "metadata": {
        "id": "01a9b257",
        "outputId": "ebaf637f-a5fd-4007-96aa-1375e87971e3"
      },
      "outputs": [
        {
          "name": "stdout",
          "output_type": "stream",
          "text": [
            "(404, 6)\n",
            "(102, 6)\n",
            "(404, 1)\n",
            "(102, 1)\n"
          ]
        }
      ],
      "source": [
        "X_train_pca, X_test_pca, y_train_pca, y_test_pca = train_test_split(X_std_pca, y, test_size = 0.2, random_state=5)\n",
        "print(X_train_pca.shape)\n",
        "print(X_test_pca.shape)\n",
        "print(y_train_pca.shape)\n",
        "print(y_test_pca.shape)"
      ]
    },
    {
      "cell_type": "markdown",
      "id": "a8aa89fc",
      "metadata": {
        "id": "a8aa89fc"
      },
      "source": [
        "## Regression Model (20 point)"
      ]
    },
    {
      "cell_type": "code",
      "execution_count": null,
      "id": "464c1b1f",
      "metadata": {
        "id": "464c1b1f"
      },
      "outputs": [],
      "source": [
        "from sklearn.linear_model import LinearRegression"
      ]
    },
    {
      "cell_type": "markdown",
      "id": "65906ffd",
      "metadata": {
        "id": "65906ffd"
      },
      "source": [
        "### Without PCA"
      ]
    },
    {
      "cell_type": "code",
      "execution_count": null,
      "id": "4c2f3da4",
      "metadata": {
        "id": "4c2f3da4",
        "outputId": "80c7d953-8634-432e-86c2-76cc91e37bf1"
      },
      "outputs": [
        {
          "data": {
            "text/plain": [
              "LinearRegression()"
            ]
          },
          "execution_count": 27,
          "metadata": {},
          "output_type": "execute_result"
        }
      ],
      "source": [
        "# define the model\n",
        "simple_reg = LinearRegression()\n",
        "simple_reg.fit(X_train, y_train)"
      ]
    },
    {
      "cell_type": "markdown",
      "id": "b04260f1",
      "metadata": {
        "id": "b04260f1"
      },
      "source": [
        "### With PCA"
      ]
    },
    {
      "cell_type": "code",
      "execution_count": null,
      "id": "2a2a8794",
      "metadata": {
        "id": "2a2a8794",
        "outputId": "f303e314-d011-4c9c-e593-8c5a09819978"
      },
      "outputs": [
        {
          "data": {
            "text/plain": [
              "LinearRegression()"
            ]
          },
          "execution_count": 28,
          "metadata": {},
          "output_type": "execute_result"
        }
      ],
      "source": [
        "# define the model\n",
        "simple_reg_pca = LinearRegression()\n",
        "simple_reg_pca.fit(X_train_pca, y_train_pca)"
      ]
    },
    {
      "cell_type": "markdown",
      "id": "9930db20",
      "metadata": {
        "id": "9930db20"
      },
      "source": [
        "## Evaluasi (20)"
      ]
    },
    {
      "cell_type": "markdown",
      "id": "25f12f6d",
      "metadata": {
        "id": "25f12f6d"
      },
      "source": [
        "Bandingkan hasil menggunakan PCA dan tidak menggunakan PCA"
      ]
    },
    {
      "cell_type": "code",
      "execution_count": null,
      "id": "eb37e5db",
      "metadata": {
        "id": "eb37e5db"
      },
      "outputs": [],
      "source": [
        "from sklearn.metrics import r2_score\n",
        "from sklearn.metrics import mean_squared_error\n",
        "from sklearn.metrics import mean_absolute_error\n",
        "from sklearn.metrics import mean_absolute_percentage_error"
      ]
    },
    {
      "cell_type": "markdown",
      "id": "19785642",
      "metadata": {
        "id": "19785642"
      },
      "source": [
        "### Without PCA"
      ]
    },
    {
      "cell_type": "code",
      "execution_count": null,
      "id": "4a87d86f",
      "metadata": {
        "id": "4a87d86f",
        "outputId": "afa30b13-cb6c-4760-c70a-615feec57868"
      },
      "outputs": [
        {
          "name": "stdout",
          "output_type": "stream",
          "text": [
            "R-squared for test data is 75.84288043812022\n",
            "RMSE for test data is 4.039890876605426\n",
            "MAPE for test data is 21.519503790062867\n",
            "MAE for test data is 3.0140265384923848\n"
          ]
        }
      ],
      "source": [
        "y_pred = simple_reg.predict(X_test)\n",
        "\n",
        "print('R-squared for test data is {}'.format((r2_score(y_pred, y_test))*100))\n",
        "print('RMSE for test data is {}'.format(np.sqrt(mean_squared_error(y_pred, y_test))))\n",
        "print('MAPE for test data is {}'.format((mean_absolute_percentage_error(y_pred, y_test))*100))\n",
        "print('MAE for test data is {}'.format(mean_absolute_error(y_pred, y_test)))"
      ]
    },
    {
      "cell_type": "markdown",
      "id": "782bd161",
      "metadata": {
        "id": "782bd161"
      },
      "source": [
        "### With PCA"
      ]
    },
    {
      "cell_type": "code",
      "execution_count": null,
      "id": "2df8b4e1",
      "metadata": {
        "id": "2df8b4e1",
        "outputId": "b7b94c81-e919-4c10-aba7-e98fbc0025b4"
      },
      "outputs": [
        {
          "name": "stdout",
          "output_type": "stream",
          "text": [
            "R-squared for test data is 78.19638088104232\n",
            "RMSE for test data is 3.981585356924079\n",
            "MAPE for test data is 636.4081618984324\n",
            "MAE for test data is 2.8389441417164334\n"
          ]
        }
      ],
      "source": [
        "y_pred_pca = simple_reg_pca.predict(X_test_pca)\n",
        "\n",
        "print('R-squared for test data is {}'.format((r2_score(y_pred_pca, y_test_pca))*100))\n",
        "print('RMSE for test data is {}'.format(np.sqrt(mean_squared_error(y_pred_pca, y_test_pca))))\n",
        "print('MAPE for test data is {}'.format((mean_absolute_percentage_error(y_pred_pca, y_test_pca))*100))\n",
        "print('MAE for test data is {}'.format(mean_absolute_error(y_pred_pca, y_test_pca)))"
      ]
    },
    {
      "cell_type": "markdown",
      "id": "cc466ec4",
      "metadata": {
        "id": "cc466ec4"
      },
      "source": [
        "terlihat bahwa menggunakan PCA menghasilkan performa yang lebih baik di semua metric evaluation"
      ]
    },
    {
      "cell_type": "markdown",
      "id": "e9aa170d",
      "metadata": {
        "id": "e9aa170d"
      },
      "source": [
        "## Other Model"
      ]
    },
    {
      "cell_type": "code",
      "execution_count": null,
      "id": "e502cf0e",
      "metadata": {
        "id": "e502cf0e"
      },
      "outputs": [],
      "source": [
        "from sklearn.ensemble import RandomForestRegressor"
      ]
    },
    {
      "cell_type": "markdown",
      "id": "6eaa7aae",
      "metadata": {
        "id": "6eaa7aae"
      },
      "source": [
        "### Random Forest - Without PCA"
      ]
    },
    {
      "cell_type": "code",
      "execution_count": null,
      "id": "4f7157d7",
      "metadata": {
        "id": "4f7157d7",
        "outputId": "dc5de6a9-ce7d-485d-ec10-e686657ee741"
      },
      "outputs": [
        {
          "data": {
            "text/plain": [
              "RandomForestRegressor(random_state=7)"
            ]
          },
          "execution_count": 33,
          "metadata": {},
          "output_type": "execute_result"
        }
      ],
      "source": [
        "reg_rf = RandomForestRegressor(random_state=7)\n",
        "reg_rf.fit(X_train, y_train)"
      ]
    },
    {
      "cell_type": "markdown",
      "id": "dd903d3e",
      "metadata": {
        "id": "dd903d3e"
      },
      "source": [
        "### Random Forest - With PCA"
      ]
    },
    {
      "cell_type": "code",
      "execution_count": null,
      "id": "1fd2110c",
      "metadata": {
        "id": "1fd2110c",
        "outputId": "9d6ddb8f-5cde-4f54-8065-bf8198707e56"
      },
      "outputs": [
        {
          "data": {
            "text/plain": [
              "RandomForestRegressor(random_state=7)"
            ]
          },
          "execution_count": 34,
          "metadata": {},
          "output_type": "execute_result"
        }
      ],
      "source": [
        "# define the model\n",
        "reg_rf_pca = RandomForestRegressor(random_state=7)\n",
        "reg_rf_pca.fit(X_train_pca, y_train_pca)"
      ]
    },
    {
      "cell_type": "markdown",
      "id": "fcaf0729",
      "metadata": {
        "id": "fcaf0729"
      },
      "source": [
        "### Evaluation - Without PCA"
      ]
    },
    {
      "cell_type": "code",
      "execution_count": null,
      "id": "4e3c0ad1",
      "metadata": {
        "id": "4e3c0ad1",
        "outputId": "f3f49a96-d3b4-4ef2-c76b-df758b9fd935"
      },
      "outputs": [
        {
          "name": "stdout",
          "output_type": "stream",
          "text": [
            "R-squared for test data is 82.82251525800075\n",
            "RMSE for test data is 3.512732297810128\n",
            "MAPE for test data is 11.758626997951987\n",
            "MAE for test data is 2.3776078431372545\n"
          ]
        }
      ],
      "source": [
        "y_pred_rf = reg_rf.predict(X_test)\n",
        "\n",
        "print('R-squared for test data is {}'.format((r2_score(y_pred_rf, y_test))*100))\n",
        "print('RMSE for test data is {}'.format(np.sqrt(mean_squared_error(y_pred_rf, y_test))))\n",
        "print('MAPE for test data is {}'.format((mean_absolute_percentage_error(y_pred_rf, y_test))*100))\n",
        "print('MAE for test data is {}'.format(mean_absolute_error(y_pred_rf, y_test)))"
      ]
    },
    {
      "cell_type": "markdown",
      "id": "ab1e00a7",
      "metadata": {
        "id": "ab1e00a7"
      },
      "source": [
        "### Evaluation - With PCA"
      ]
    },
    {
      "cell_type": "code",
      "execution_count": null,
      "id": "6238d3d1",
      "metadata": {
        "id": "6238d3d1",
        "outputId": "18da8d63-a4f6-486a-860e-6229fde4f8bb"
      },
      "outputs": [
        {
          "name": "stdout",
          "output_type": "stream",
          "text": [
            "R-squared for test data is 75.64068061864103\n",
            "RMSE for test data is 3.9513618054598663\n",
            "MAPE for test data is 13.443210508219646\n",
            "MAE for test data is 2.7375098039215673\n"
          ]
        }
      ],
      "source": [
        "y_pred_rf_pca = reg_rf_pca.predict(X_test_pca)\n",
        "\n",
        "print('R-squared for test data is {}'.format((r2_score(y_pred_rf_pca, y_test_pca))*100))\n",
        "print('RMSE for test data is {}'.format(np.sqrt(mean_squared_error(y_pred_rf_pca, y_test_pca))))\n",
        "print('MAPE for test data is {}'.format((mean_absolute_percentage_error(y_pred_rf_pca, y_test_pca))*100))\n",
        "print('MAE for test data is {}'.format(mean_absolute_error(y_pred_rf_pca, y_test_pca)))"
      ]
    },
    {
      "cell_type": "markdown",
      "id": "f02a32ef",
      "metadata": {
        "id": "f02a32ef"
      },
      "source": [
        "untuk model random forest, terlihat bahwa menggunakan pca dapat menurunkan performa model"
      ]
    },
    {
      "cell_type": "code",
      "execution_count": null,
      "id": "9d78ac28",
      "metadata": {
        "id": "9d78ac28"
      },
      "outputs": [],
      "source": []
    }
  ],
  "metadata": {
    "kernelspec": {
      "display_name": "gpuenv",
      "language": "python",
      "name": "gpuenv"
    },
    "language_info": {
      "codemirror_mode": {
        "name": "ipython",
        "version": 3
      },
      "file_extension": ".py",
      "mimetype": "text/x-python",
      "name": "python",
      "nbconvert_exporter": "python",
      "pygments_lexer": "ipython3",
      "version": "3.6.13"
    },
    "toc": {
      "base_numbering": 1,
      "nav_menu": {},
      "number_sections": true,
      "sideBar": true,
      "skip_h1_title": false,
      "title_cell": "Table of Contents",
      "title_sidebar": "Contents",
      "toc_cell": false,
      "toc_position": {},
      "toc_section_display": true,
      "toc_window_display": true
    },
    "varInspector": {
      "cols": {
        "lenName": 16,
        "lenType": 16,
        "lenVar": 40
      },
      "kernels_config": {
        "python": {
          "delete_cmd_postfix": "",
          "delete_cmd_prefix": "del ",
          "library": "var_list.py",
          "varRefreshCmd": "print(var_dic_list())"
        },
        "r": {
          "delete_cmd_postfix": ") ",
          "delete_cmd_prefix": "rm(",
          "library": "var_list.r",
          "varRefreshCmd": "cat(var_dic_list()) "
        }
      },
      "types_to_exclude": [
        "module",
        "function",
        "builtin_function_or_method",
        "instance",
        "_Feature"
      ],
      "window_display": false
    },
    "colab": {
      "name": "Day 22 - Exploring Machine Learning.ipynb",
      "provenance": [],
      "toc_visible": true
    }
  },
  "nbformat": 4,
  "nbformat_minor": 5
}